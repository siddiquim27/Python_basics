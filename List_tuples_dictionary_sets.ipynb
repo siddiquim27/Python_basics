{
 "cells": [
  {
   "cell_type": "markdown",
   "id": "f791907e-5e79-4e88-95b2-c79f2a5d3607",
   "metadata": {},
   "source": [
    "## 1. List -> denoted by []"
   ]
  },
  {
   "cell_type": "code",
   "execution_count": 3,
   "id": "1b7db34c-7f32-4617-b9d4-df71849edda2",
   "metadata": {},
   "outputs": [],
   "source": [
    "## it is immutable"
   ]
  },
  {
   "cell_type": "code",
   "execution_count": 5,
   "id": "bc1556f5-62a2-407e-ab08-7965ad49f288",
   "metadata": {},
   "outputs": [
    {
     "name": "stdout",
     "output_type": "stream",
     "text": [
      "['apple', 'banana', 'grapes']\n"
     ]
    }
   ],
   "source": [
    "list = [\"apple\", \"banana\", \"grapes\"]\n",
    "print(list)"
   ]
  },
  {
   "cell_type": "code",
   "execution_count": 7,
   "id": "e719dc87-d4e7-4a75-a4ff-d251db469250",
   "metadata": {},
   "outputs": [
    {
     "name": "stdout",
     "output_type": "stream",
     "text": [
      "apple\n"
     ]
    }
   ],
   "source": [
    "print(list[0])"
   ]
  },
  {
   "cell_type": "code",
   "execution_count": 9,
   "id": "6fac8e31-975b-47bc-9527-dffe35001193",
   "metadata": {},
   "outputs": [
    {
     "name": "stdout",
     "output_type": "stream",
     "text": [
      "<class 'list'>\n"
     ]
    }
   ],
   "source": [
    "print(type(list))"
   ]
  },
  {
   "cell_type": "code",
   "execution_count": 11,
   "id": "067de485-9b7f-4c7c-845e-283e2064a77a",
   "metadata": {},
   "outputs": [
    {
     "name": "stdout",
     "output_type": "stream",
     "text": [
      "apple\n"
     ]
    }
   ],
   "source": [
    "print(list[-3])"
   ]
  },
  {
   "cell_type": "code",
   "execution_count": 13,
   "id": "fe25a16d-faae-4b5f-8fff-e6cc5d74acc1",
   "metadata": {},
   "outputs": [],
   "source": [
    "## replacing and changing list"
   ]
  },
  {
   "cell_type": "code",
   "execution_count": 17,
   "id": "d12e76be-e7f8-480c-8bc1-dcfe6dfb95a8",
   "metadata": {},
   "outputs": [
    {
     "name": "stdout",
     "output_type": "stream",
     "text": [
      "['apple', 'banana', 'cherry', 'apple', 'kela']\n"
     ]
    }
   ],
   "source": [
    "list = [\"apple\" , \"banana\" , \"cherry\" , \"apple\", \"kela\"]\n",
    "print(list)"
   ]
  },
  {
   "cell_type": "code",
   "execution_count": 19,
   "id": "eee909df-1714-4df2-b834-31ccecb5898f",
   "metadata": {},
   "outputs": [],
   "source": [
    "## data types"
   ]
  },
  {
   "cell_type": "code",
   "execution_count": 27,
   "id": "f6492794-7769-47bd-9aa1-43c5c47dc5bf",
   "metadata": {},
   "outputs": [
    {
     "name": "stdout",
     "output_type": "stream",
     "text": [
      "['apple', 'banana', 'cherry', 'apple']\n",
      "[2, 3, 4]\n",
      "[3.8, 45.6, 353.3]\n",
      "[True, False]\n"
     ]
    }
   ],
   "source": [
    "list1 = [\"apple\" , \"banana\" , \"cherry\" , \"apple\"]\n",
    "list2 = [2,3,4]\n",
    "list3 = [3.8 , 45.6 , 353.3]\n",
    "list4 = [True , False]\n",
    "\n",
    "print(list1)\n",
    "print(list2)\n",
    "print(list3)\n",
    "print(list4)"
   ]
  },
  {
   "cell_type": "code",
   "execution_count": 31,
   "id": "76ccfff7-f1dd-43ae-bf4c-1dd791c2c77a",
   "metadata": {},
   "outputs": [
    {
     "name": "stdout",
     "output_type": "stream",
     "text": [
      "[12, 45.6, True, 'GOYAL']\n"
     ]
    }
   ],
   "source": [
    "list5 = [12,45.6, True , \"GOYAL\"]\n",
    "print(list5)"
   ]
  },
  {
   "cell_type": "code",
   "execution_count": 33,
   "id": "ff9d09f8-90b0-49af-a46e-d56c5ff1495c",
   "metadata": {},
   "outputs": [
    {
     "name": "stdout",
     "output_type": "stream",
     "text": [
      "4\n"
     ]
    }
   ],
   "source": [
    "list5 = [12,45.6, True , \"GOYAL\"]\n",
    "print(len(list5))"
   ]
  },
  {
   "cell_type": "code",
   "execution_count": 35,
   "id": "4d229bed-4d7d-4b3c-9015-79b0ee9dbd04",
   "metadata": {},
   "outputs": [],
   "source": [
    "## slicing"
   ]
  },
  {
   "cell_type": "code",
   "execution_count": 39,
   "id": "59b5f239-6933-436d-a4c4-a7711eee1adf",
   "metadata": {},
   "outputs": [
    {
     "name": "stdout",
     "output_type": "stream",
     "text": [
      "[23, 34, 32, 5, 6, 4]\n"
     ]
    }
   ],
   "source": [
    "list = [23,34,32,5,6,4,24,24,56,6,88,44,23,33,424,4,4,24,244,245,90]\n",
    "print(list[0:6])"
   ]
  },
  {
   "cell_type": "code",
   "execution_count": 41,
   "id": "e3b15d5d-b760-434d-9e46-3082daa5f6af",
   "metadata": {},
   "outputs": [
    {
     "name": "stdout",
     "output_type": "stream",
     "text": [
      "[5, 6, 4]\n"
     ]
    }
   ],
   "source": [
    "print(list[3:6])"
   ]
  },
  {
   "cell_type": "code",
   "execution_count": 45,
   "id": "2e814699-356d-46ce-8f30-a0eee4a44b9c",
   "metadata": {},
   "outputs": [
    {
     "name": "stdout",
     "output_type": "stream",
     "text": [
      "[23, 32, 6, 24, 56, 88, 23, 424, 4, 244]\n"
     ]
    }
   ],
   "source": [
    "list = [23,34,32,5,6,4,24,24,56,6,88,44,23,33,424,4,4,24,244,245,90]\n",
    "print(list[0:20: 2])"
   ]
  },
  {
   "cell_type": "code",
   "execution_count": 47,
   "id": "84be2b2f-aa73-413e-aeae-999919fbfc3e",
   "metadata": {},
   "outputs": [
    {
     "name": "stdout",
     "output_type": "stream",
     "text": [
      "['hiii', 'mango', 'kevlar']\n"
     ]
    }
   ],
   "source": [
    "list = [\"hiii\" , \"banana\" , \"kevlar\"]\n",
    "list[1] = \"mango\"\n",
    "print(list)"
   ]
  },
  {
   "cell_type": "code",
   "execution_count": 49,
   "id": "77635e7f-68f0-457a-8774-0c2340b4a0a2",
   "metadata": {},
   "outputs": [
    {
     "name": "stdout",
     "output_type": "stream",
     "text": [
      "[23, 34, 32, 5, 'noman', 'siddiqui', 56, 6, 88, 44, 23, 33, 424, 4, 4, 24, 244, 245, 90]\n"
     ]
    }
   ],
   "source": [
    "list = [23,34,32,5,6,4,24,24,56,6,88,44,23,33,424,4,4,24,244,245,90]\n",
    "list[4:8] = [\"noman\" , \"siddiqui\"]\n",
    "print(list)"
   ]
  },
  {
   "cell_type": "code",
   "execution_count": 51,
   "id": "c90197c2-0de0-496a-a850-b73a7cb4759b",
   "metadata": {},
   "outputs": [
    {
     "name": "stdout",
     "output_type": "stream",
     "text": [
      "[23, 34, 32, 5, 6, 4, 24, 24, 56, 6, 88, 44, 23, 33, 424, 4, 4, 24, 244, 245, 90, -8]\n"
     ]
    }
   ],
   "source": [
    "list = [23,34,32,5,6,4,24,24,56,6,88,44,23,33,424,4,4,24,244,245,90]\n",
    "list.append(-8)\n",
    "print(list)"
   ]
  },
  {
   "cell_type": "code",
   "execution_count": 55,
   "id": "a3e78c68-ab95-46eb-97a9-f9f6f13c1d3c",
   "metadata": {},
   "outputs": [
    {
     "name": "stdout",
     "output_type": "stream",
     "text": [
      "[4, 7, 89, 43, 24, 5, 'paper', 'pen', 67, 8]\n"
     ]
    }
   ],
   "source": [
    "list = [4,7,89,43,24,5,\"paper\", \"pen\", 45,67,8]\n",
    "list.remove(45)\n",
    "print(list)"
   ]
  },
  {
   "cell_type": "code",
   "execution_count": 57,
   "id": "1ee2cc7b-3dc1-4917-8dce-e2099e10fe40",
   "metadata": {},
   "outputs": [
    {
     "name": "stdout",
     "output_type": "stream",
     "text": [
      "[8, 67, 45, 'pen', 'paper', 5, 24, 43, 89, 7, 4]\n"
     ]
    }
   ],
   "source": [
    "list = [4,7,89,43,24,5,\"paper\", \"pen\", 45,67,8]\n",
    "list.reverse()\n",
    "print(list)"
   ]
  },
  {
   "cell_type": "code",
   "execution_count": 69,
   "id": "61319fec-0db8-48a3-91ab-46a0eb41e5c1",
   "metadata": {},
   "outputs": [
    {
     "name": "stdout",
     "output_type": "stream",
     "text": [
      "21\n",
      "1437\n"
     ]
    }
   ],
   "source": [
    "list = [23,34,32,5,6,4,24,24,56,6,88,44,23,33,424,4,4,24,244,245,90]\n",
    "print(len(list))\n",
    "sum = 0\n",
    "for i in range(21):\n",
    "    sum = sum + list[i]\n",
    "    i = i+1\n",
    "\n",
    "print(sum)\n",
    "    "
   ]
  },
  {
   "cell_type": "code",
   "execution_count": 73,
   "id": "6bd1fac7-8352-4b45-95ae-515dd4374ad3",
   "metadata": {},
   "outputs": [
    {
     "name": "stdout",
     "output_type": "stream",
     "text": [
      "21\n",
      "1496140446872254650827931648000\n"
     ]
    }
   ],
   "source": [
    "list = [23,34,32,5,6,4,24,24,56,6,88,44,23,33,424,4,4,24,244,245,90]\n",
    "print(len(list))\n",
    "mul = 1\n",
    "for i in range(21):\n",
    "    mul = mul * list[i]\n",
    "    i=i+1\n",
    "print(mul)"
   ]
  },
  {
   "cell_type": "code",
   "execution_count": null,
   "id": "f4dc8849-9566-4511-ab0d-e020bcf90586",
   "metadata": {},
   "outputs": [],
   "source": []
  },
  {
   "cell_type": "markdown",
   "id": "9bf54df3-fbdb-4891-a1c9-0b0542e0f674",
   "metadata": {},
   "source": [
    "## 2. Tuples"
   ]
  },
  {
   "cell_type": "code",
   "execution_count": 5,
   "id": "f913634c-1b86-42a3-b214-f5bcfa961228",
   "metadata": {},
   "outputs": [],
   "source": [
    "## used to store mnultiple items in single variable\n",
    "## all same as list but only difference is w can not change the elemnts\n",
    "## denoted by -> ()"
   ]
  },
  {
   "cell_type": "code",
   "execution_count": 7,
   "id": "b0fdde77-04e9-4bd5-af95-7434029b83c4",
   "metadata": {},
   "outputs": [
    {
     "name": "stdout",
     "output_type": "stream",
     "text": [
      "(1, 2, 4)\n"
     ]
    }
   ],
   "source": [
    "tuple = (1,2,4)\n",
    "print(tuple)"
   ]
  },
  {
   "cell_type": "code",
   "execution_count": 9,
   "id": "b5b169fe-b0e0-4537-b8ee-df196d93145b",
   "metadata": {},
   "outputs": [
    {
     "name": "stdout",
     "output_type": "stream",
     "text": [
      "<class 'tuple'>\n"
     ]
    }
   ],
   "source": [
    "print(type(tuple))"
   ]
  },
  {
   "cell_type": "code",
   "execution_count": 13,
   "id": "731d5c2d-ae34-4758-b6ec-69de843cfa32",
   "metadata": {},
   "outputs": [
    {
     "name": "stdout",
     "output_type": "stream",
     "text": [
      "(1, 'hii', 23.6, (6-7j))\n",
      "<class 'tuple'>\n"
     ]
    }
   ],
   "source": [
    "tp = (1,\"hii\", 23.6, 6-7j)\n",
    "print(tp)\n",
    "print(type(tp))"
   ]
  },
  {
   "cell_type": "code",
   "execution_count": 15,
   "id": "7b4872a0-8725-4fa5-8389-a680c5df471f",
   "metadata": {},
   "outputs": [
    {
     "name": "stdout",
     "output_type": "stream",
     "text": [
      "()\n"
     ]
    }
   ],
   "source": [
    "## empty tuple\n",
    "emp_tp = ()\n",
    "print(emp_tp)"
   ]
  },
  {
   "cell_type": "markdown",
   "id": "e7bb6030-3a8a-4003-9e53-ae0fbd6baa06",
   "metadata": {},
   "source": [
    "## nested tuple\n"
   ]
  },
  {
   "cell_type": "code",
   "execution_count": 20,
   "id": "7134e941-3beb-4206-96c0-132470e61edf",
   "metadata": {},
   "outputs": [
    {
     "name": "stdout",
     "output_type": "stream",
     "text": [
      "(1, 'data', [56.7, 8, (5-7j)], (5, 6, 7))\n",
      "<class 'tuple'>\n"
     ]
    }
   ],
   "source": [
    "a = (1, \"data\", [56.7,8, 5-7j], (5,6,7))\n",
    "print(a)\n",
    "print(type(a))"
   ]
  },
  {
   "cell_type": "markdown",
   "id": "63b86fcf-d12c-49ca-ad9b-479a3f13c838",
   "metadata": {},
   "source": [
    "## creating single tuple"
   ]
  },
  {
   "cell_type": "code",
   "execution_count": 23,
   "id": "43e58496-2bc8-46af-ad39-de5895be2502",
   "metadata": {},
   "outputs": [
    {
     "name": "stdout",
     "output_type": "stream",
     "text": [
      "hello\n",
      "<class 'str'>\n"
     ]
    }
   ],
   "source": [
    "var1 = (\"hello\")\n",
    "print(var1)\n",
    "print(type(var1))"
   ]
  },
  {
   "cell_type": "code",
   "execution_count": 27,
   "id": "ce0690a5-2bbc-4be7-b6c6-c659bca1cd5c",
   "metadata": {},
   "outputs": [
    {
     "name": "stdout",
     "output_type": "stream",
     "text": [
      "('hello',)\n",
      "<class 'tuple'>\n"
     ]
    }
   ],
   "source": [
    "var2 = (\"hello\" , ) ## srf comma se separate kar diye to tuple ban jaata hai\n",
    "print(var2)\n",
    "print(type(var2))"
   ]
  },
  {
   "cell_type": "markdown",
   "id": "ebc6878f-1867-4eba-84af-a787a20c66ca",
   "metadata": {},
   "source": [
    "## tuple constructor"
   ]
  },
  {
   "cell_type": "code",
   "execution_count": 3,
   "id": "31bf5772-b88a-495d-ac79-c963fb0bf7ad",
   "metadata": {},
   "outputs": [
    {
     "name": "stdout",
     "output_type": "stream",
     "text": [
      "('a', 'b', 'c')\n",
      "<class 'tuple'>\n"
     ]
    }
   ],
   "source": [
    "tp = tuple((\"a\", \"b\", \"c\"))\n",
    "print(tp)\n",
    "print(type(tp))"
   ]
  },
  {
   "cell_type": "markdown",
   "id": "b2fcb076-6d53-4f66-aed1-aa25bd894ec3",
   "metadata": {},
   "source": [
    "## indexing in tuple\n"
   ]
  },
  {
   "cell_type": "code",
   "execution_count": 6,
   "id": "dd615796-2be2-4869-8614-158a14c037a1",
   "metadata": {},
   "outputs": [
    {
     "name": "stdout",
     "output_type": "stream",
     "text": [
      "(34, 56, 78, 53, 67, 42, 6, 543)\n",
      "67\n",
      "6\n"
     ]
    }
   ],
   "source": [
    "tup = (34,56,78,53,67,42,6,543)\n",
    "print(tup)\n",
    "print(tup[4])\n",
    "print(tup[-2])"
   ]
  },
  {
   "cell_type": "markdown",
   "id": "a87e712b-17e1-4f77-a5a0-fb74a65f40fb",
   "metadata": {},
   "source": [
    "## slicing"
   ]
  },
  {
   "cell_type": "code",
   "execution_count": 13,
   "id": "062db2f5-e908-436b-8c5f-d835169c5406",
   "metadata": {},
   "outputs": [
    {
     "name": "stdout",
     "output_type": "stream",
     "text": [
      "5\n",
      "([56.7, 8, (5-7j)], (5, 6, 7))\n"
     ]
    }
   ],
   "source": [
    "tp = (1, \"data\", [56.7,8, 5-7j], (5,6,7) , 6)\n",
    "print(len(tp))\n",
    "print(tp[2:4])"
   ]
  },
  {
   "cell_type": "code",
   "execution_count": 15,
   "id": "64e772b6-ffcc-4482-b7d8-c452421c5fe4",
   "metadata": {},
   "outputs": [
    {
     "name": "stdout",
     "output_type": "stream",
     "text": [
      "5\n",
      "([56.7, 8, (5-7j)], (5, 6, 7), 6)\n"
     ]
    }
   ],
   "source": [
    "tp = (1, \"data\", [56.7,8, 5-7j], (5,6,7) , 6)\n",
    "print(len(tp))\n",
    "print(tp[2:])"
   ]
  },
  {
   "cell_type": "code",
   "execution_count": 17,
   "id": "2fedabba-b58e-4854-8fac-0560cef9e5ff",
   "metadata": {},
   "outputs": [
    {
     "name": "stdout",
     "output_type": "stream",
     "text": [
      "5\n",
      "(1, [56.7, 8, (5-7j)], 6)\n"
     ]
    }
   ],
   "source": [
    "tp = (1, \"data\", [56.7,8, 5-7j], (5,6,7) , 6)\n",
    "print(len(tp))\n",
    "print(tp[::2])"
   ]
  },
  {
   "cell_type": "code",
   "execution_count": 21,
   "id": "1924abc7-fb49-48ce-b44e-b1372159a71a",
   "metadata": {},
   "outputs": [
    {
     "name": "stdout",
     "output_type": "stream",
     "text": [
      "5\n",
      "(6, (5, 6, 7), [56.7, 8, (5-7j)], 'data', 1)\n"
     ]
    }
   ],
   "source": [
    "tp = (1, \"data\", [56.7,8, 5-7j], (5,6,7) , 6)\n",
    "print(len(tp))\n",
    "print(tp[::-1])"
   ]
  },
  {
   "cell_type": "code",
   "execution_count": 23,
   "id": "652ed9bb-87a9-42a5-bc7b-7902477a24c2",
   "metadata": {},
   "outputs": [
    {
     "name": "stdout",
     "output_type": "stream",
     "text": [
      "5\n",
      "(1, 'data', [56.7, 8, (5-7j)], (5, 6, 7), 6)\n"
     ]
    }
   ],
   "source": [
    "tp = (1, \"data\", [56.7,8, 5-7j], (5,6,7) , 6)\n",
    "print(len(tp))\n",
    "print(tp[::])"
   ]
  },
  {
   "cell_type": "code",
   "execution_count": 25,
   "id": "a5c8989b-e268-4d79-a954-37b83db41d89",
   "metadata": {},
   "outputs": [
    {
     "name": "stdout",
     "output_type": "stream",
     "text": [
      "5\n",
      "(1, 'data', [56.7, 8, (5-7j)], (5, 6, 7))\n"
     ]
    }
   ],
   "source": [
    "tp = (1, \"data\", [56.7,8, 5-7j], (5,6,7) , 6)\n",
    "print(len(tp))\n",
    "print(tp[:4])"
   ]
  },
  {
   "cell_type": "code",
   "execution_count": null,
   "id": "ec6dae3c-e993-43d7-8f34-940e1179a241",
   "metadata": {},
   "outputs": [],
   "source": []
  },
  {
   "cell_type": "code",
   "execution_count": 28,
   "id": "adaaa589-3c4c-47d0-a4f7-05f776d274ad",
   "metadata": {},
   "outputs": [
    {
     "name": "stdout",
     "output_type": "stream",
     "text": [
      "(5, 6, 7, 8, 90, 34)\n"
     ]
    }
   ],
   "source": [
    "tup = (5,6,7,8,90)\n",
    "x = list(tup)\n",
    "x.append(34)\n",
    "tup = tuple(x)\n",
    "print(tup)"
   ]
  },
  {
   "cell_type": "code",
   "execution_count": 30,
   "id": "cdb2ed0b-3eb0-406e-96d5-ee135a043ba0",
   "metadata": {},
   "outputs": [
    {
     "ename": "AttributeError",
     "evalue": "'tuple' object has no attribute 'append'",
     "output_type": "error",
     "traceback": [
      "\u001b[1;31m---------------------------------------------------------------------------\u001b[0m",
      "\u001b[1;31mAttributeError\u001b[0m                            Traceback (most recent call last)",
      "Cell \u001b[1;32mIn[30], line 2\u001b[0m\n\u001b[0;32m      1\u001b[0m tup \u001b[38;5;241m=\u001b[39m (\u001b[38;5;241m5\u001b[39m,\u001b[38;5;241m6\u001b[39m,\u001b[38;5;241m7\u001b[39m,\u001b[38;5;241m8\u001b[39m,\u001b[38;5;241m90\u001b[39m)\n\u001b[1;32m----> 2\u001b[0m tup\u001b[38;5;241m.\u001b[39mappend(\u001b[38;5;241m3\u001b[39m)\n",
      "\u001b[1;31mAttributeError\u001b[0m: 'tuple' object has no attribute 'append'"
     ]
    }
   ],
   "source": [
    "tup = (5,6,7,8,90)\n",
    "tup.append(3)"
   ]
  },
  {
   "cell_type": "code",
   "execution_count": 32,
   "id": "58ef1661-e27c-4ce1-b137-d82b7753a243",
   "metadata": {},
   "outputs": [
    {
     "name": "stdout",
     "output_type": "stream",
     "text": [
      "(5, 6, 7, 8, 90)\n"
     ]
    }
   ],
   "source": [
    "tup = (5,6,7,8,90 , 34)\n",
    "x = list(tup)\n",
    "x.remove(34)\n",
    "tup = tuple(x)\n",
    "print(tup)\n"
   ]
  },
  {
   "cell_type": "markdown",
   "id": "7ab54d9a-803b-4a78-b4ad-0d334a1a8be1",
   "metadata": {},
   "source": [
    "## loops in tuples"
   ]
  },
  {
   "cell_type": "code",
   "execution_count": 37,
   "id": "2a29704d-2e04-427b-a925-5695f66baa10",
   "metadata": {},
   "outputs": [
    {
     "name": "stdout",
     "output_type": "stream",
     "text": [
      "5\n",
      "6\n",
      "7\n",
      "8\n",
      "90\n",
      "34\n"
     ]
    }
   ],
   "source": [
    "tuples = (5,6,7,8,90 , 34)\n",
    "\n",
    "for x in tuples:\n",
    "    print(x)"
   ]
  },
  {
   "cell_type": "code",
   "execution_count": 39,
   "id": "b51d14b2-196e-48ba-bff4-7e027d2700e2",
   "metadata": {},
   "outputs": [
    {
     "name": "stdout",
     "output_type": "stream",
     "text": [
      "('noman', 'appple', 'khayga', 'but ', 'ham khane', 'nh denge')\n"
     ]
    }
   ],
   "source": [
    "tp1 = (\"noman\", \"appple\" , \"khayga\")\n",
    "tp2 = (\"but \", \"ham khane\", \"nh denge\")\n",
    "tup3 = tp1 + tp2\n",
    "print(tup3)"
   ]
  },
  {
   "cell_type": "code",
   "execution_count": 41,
   "id": "9937c2c3-ba5b-45c6-aaa6-dc02bfbe8102",
   "metadata": {},
   "outputs": [
    {
     "name": "stdout",
     "output_type": "stream",
     "text": [
      "('noman', 'appple', 'khayga', 'noman', 'appple', 'khayga')\n"
     ]
    }
   ],
   "source": [
    "tp1 = (\"noman\", \"appple\" , \"khayga\")\n",
    "tp2 = tp1 * 2\n",
    "print(tp2)"
   ]
  },
  {
   "cell_type": "code",
   "execution_count": 53,
   "id": "60f5a4b3-50f0-4a53-9ad7-0859a1cdf477",
   "metadata": {},
   "outputs": [
    {
     "name": "stdout",
     "output_type": "stream",
     "text": [
      "('noman', 'appple', 'khayga', 'noman', 'appple', 'khayga', 'noman', 'appple', 'khayga')\n"
     ]
    }
   ],
   "source": [
    " tupl = print(tp1 + tp1 + tp1)"
   ]
  },
  {
   "cell_type": "code",
   "execution_count": 55,
   "id": "8bb67c33-0680-438c-882b-98098e3d19c1",
   "metadata": {},
   "outputs": [
    {
     "ename": "TypeError",
     "evalue": "object of type 'NoneType' has no len()",
     "output_type": "error",
     "traceback": [
      "\u001b[1;31m---------------------------------------------------------------------------\u001b[0m",
      "\u001b[1;31mTypeError\u001b[0m                                 Traceback (most recent call last)",
      "Cell \u001b[1;32mIn[55], line 1\u001b[0m\n\u001b[1;32m----> 1\u001b[0m \u001b[38;5;28mprint\u001b[39m(\u001b[38;5;28mlen\u001b[39m(tupl))\n",
      "\u001b[1;31mTypeError\u001b[0m: object of type 'NoneType' has no len()"
     ]
    }
   ],
   "source": [
    "print(len(tupl))"
   ]
  },
  {
   "cell_type": "code",
   "execution_count": 49,
   "id": "9b22308d-a43e-469a-b9d6-feda5ae44917",
   "metadata": {},
   "outputs": [
    {
     "name": "stdout",
     "output_type": "stream",
     "text": [
      "3\n",
      "The history saving thread hit an unexpected error (OperationalError('database or disk is full')).History will not be written to the database.\n"
     ]
    }
   ],
   "source": [
    "print(len(tp1))"
   ]
  },
  {
   "cell_type": "code",
   "execution_count": 75,
   "id": "8defe618-1ebb-4859-9bb0-7e67bc401c07",
   "metadata": {},
   "outputs": [
    {
     "name": "stdout",
     "output_type": "stream",
     "text": [
      "enter elements for tuple 1\n"
     ]
    },
    {
     "name": "stdin",
     "output_type": "stream",
     "text": [
      " 3\n"
     ]
    },
    {
     "name": "stdout",
     "output_type": "stream",
     "text": [
      "enter elements for tuple 2\n"
     ]
    },
    {
     "name": "stdin",
     "output_type": "stream",
     "text": [
      " 4\n"
     ]
    },
    {
     "name": "stdout",
     "output_type": "stream",
     "text": [
      "enter elements for tuple 3\n"
     ]
    },
    {
     "name": "stdin",
     "output_type": "stream",
     "text": [
      " 5\n"
     ]
    },
    {
     "name": "stdout",
     "output_type": "stream",
     "text": [
      "enter elements for tuple 4\n"
     ]
    },
    {
     "name": "stdin",
     "output_type": "stream",
     "text": [
      " 7\n"
     ]
    },
    {
     "name": "stdout",
     "output_type": "stream",
     "text": [
      "enter elements for tuple 5\n"
     ]
    },
    {
     "name": "stdin",
     "output_type": "stream",
     "text": [
      " 4\n"
     ]
    },
    {
     "name": "stdout",
     "output_type": "stream",
     "text": [
      "('3', '4', '5', '7', '4')\n"
     ]
    }
   ],
   "source": [
    "elements = []\n",
    "for x in range(5):\n",
    "    print(\"enter elements for tuple\" , x + 1)\n",
    "    element = input()\n",
    "    elements.append(element)\n",
    "tup =tuple(elements)\n",
    "print(tup)\n"
   ]
  },
  {
   "cell_type": "code",
   "execution_count": null,
   "id": "2799d554-6862-4ae1-944d-92ce4c55a99f",
   "metadata": {},
   "outputs": [],
   "source": []
  },
  {
   "cell_type": "markdown",
   "id": "8b44edc0-13c4-449b-b2e0-d38e8e411afa",
   "metadata": {},
   "source": [
    "## 3. dictionary"
   ]
  },
  {
   "cell_type": "code",
   "execution_count": 84,
   "id": "ec88d866-85f0-48a2-885d-f5e89588d839",
   "metadata": {},
   "outputs": [],
   "source": [
    "  # mutable\n",
    "# no duplicates allowed\n",
    "# key: value\n"
   ]
  },
  {
   "cell_type": "code",
   "execution_count": 86,
   "id": "3ee4b79c-913a-4e0b-a1fa-278eecd36856",
   "metadata": {},
   "outputs": [],
   "source": [
    "d1 = {\n",
    "    \"ID\": \"233KB\",\n",
    "    \"color\" : \"red\",\n",
    "    \"year\": \"2025\"\n",
    "}"
   ]
  },
  {
   "cell_type": "code",
   "execution_count": 88,
   "id": "fd075d94-cd86-4d01-8997-b0504c259e7b",
   "metadata": {},
   "outputs": [
    {
     "name": "stdout",
     "output_type": "stream",
     "text": [
      "{'ID': '233KB', 'color': 'red', 'year': '2025'}\n"
     ]
    }
   ],
   "source": [
    "print(d1)"
   ]
  },
  {
   "cell_type": "code",
   "execution_count": 92,
   "id": "849d956c-ec84-4902-8332-5349349495a9",
   "metadata": {},
   "outputs": [
    {
     "name": "stdout",
     "output_type": "stream",
     "text": [
      "<class 'dict'>\n"
     ]
    }
   ],
   "source": [
    "print(type(d1))"
   ]
  },
  {
   "cell_type": "code",
   "execution_count": 94,
   "id": "18f04294-d0c1-467d-912a-b862518d7875",
   "metadata": {},
   "outputs": [
    {
     "name": "stdout",
     "output_type": "stream",
     "text": [
      "2025\n"
     ]
    }
   ],
   "source": [
    "print(d1[\"year\"])"
   ]
  },
  {
   "cell_type": "code",
   "execution_count": 100,
   "id": "1c2bdc83-5172-405f-af55-b0697dacff5c",
   "metadata": {},
   "outputs": [
    {
     "name": "stdout",
     "output_type": "stream",
     "text": [
      "{'ID': '233KB', 'color': 'red', 'year': '2013'}\n"
     ]
    }
   ],
   "source": [
    "## duplicates not alllowed\n",
    "d1 = {\n",
    "    \"ID\": \"233KB\",\n",
    "    \"color\" : \"red\",\n",
    "    \"year\": \"2025\",\n",
    "    \"year\" : \"2013\"\n",
    "    \n",
    "}\n",
    "print(d1)"
   ]
  },
  {
   "cell_type": "code",
   "execution_count": 98,
   "id": "94a2df25-7ddd-449d-a6bc-b4b9ccb8ceb7",
   "metadata": {},
   "outputs": [
    {
     "name": "stdout",
     "output_type": "stream",
     "text": [
      "<class 'dict'>\n"
     ]
    }
   ],
   "source": [
    "print(type(d1))"
   ]
  },
  {
   "cell_type": "code",
   "execution_count": 102,
   "id": "a7281378-cf4e-413f-b2ca-4cec104d3e83",
   "metadata": {},
   "outputs": [
    {
     "name": "stdout",
     "output_type": "stream",
     "text": [
      "3\n"
     ]
    }
   ],
   "source": [
    "print(len(d1))"
   ]
  },
  {
   "cell_type": "code",
   "execution_count": 104,
   "id": "534a0c44-ce2e-43ee-92b8-57720fe06834",
   "metadata": {},
   "outputs": [
    {
     "name": "stdout",
     "output_type": "stream",
     "text": [
      "{'ID': '233KB', 'color': 'red', 'year': '2025', 'a': [1, 3, 4, 6, 7, 6], 'tup': (4.5, 672, 54.23), 'c': False}\n"
     ]
    }
   ],
   "source": [
    "di = {\n",
    "    \"ID\": \"233KB\",\n",
    "    \"color\" : \"red\",\n",
    "    \"year\": \"2025\",\n",
    "    'a' : [1,3,4,6,7,6],\n",
    "    'tup' : (4.5,672,54.23),\n",
    "    'c': False\n",
    "}\n",
    "\n",
    "print(di)"
   ]
  },
  {
   "cell_type": "code",
   "execution_count": 110,
   "id": "144de4cd-975d-4b66-a731-96cd8cfb47db",
   "metadata": {},
   "outputs": [
    {
     "name": "stdout",
     "output_type": "stream",
     "text": [
      "{'name': 'noman', 'age': 21, 'country': 'india'}\n",
      "<class 'dict'>\n"
     ]
    }
   ],
   "source": [
    "## dict constructor\n",
    "a = dict(name = \"noman\" , age = 21, country = \"india\")\n",
    "print(a)\n",
    "print(type(a))"
   ]
  },
  {
   "cell_type": "code",
   "execution_count": 114,
   "id": "40e4994c-6f3c-4a72-80ea-c82d8c5969f6",
   "metadata": {},
   "outputs": [
    {
     "name": "stdout",
     "output_type": "stream",
     "text": [
      "21\n"
     ]
    }
   ],
   "source": [
    "print(a[\"age\"])"
   ]
  },
  {
   "cell_type": "code",
   "execution_count": 120,
   "id": "15509edd-b3ca-4a46-8ca4-bcf2a5a391bc",
   "metadata": {},
   "outputs": [
    {
     "name": "stdout",
     "output_type": "stream",
     "text": [
      "dict_keys(['name', 'age', 'country'])\n"
     ]
    }
   ],
   "source": [
    "all_keys = a.keys()\n",
    "#all_keys\n",
    "print(all_keys)"
   ]
  },
  {
   "cell_type": "code",
   "execution_count": 122,
   "id": "d93f39f2-5ed8-4318-a8bb-0c88fc21b235",
   "metadata": {},
   "outputs": [
    {
     "name": "stdout",
     "output_type": "stream",
     "text": [
      "dict_values(['noman', 21, 'india'])\n"
     ]
    }
   ],
   "source": [
    "all_val = a.values()\n",
    "print(all_val)"
   ]
  },
  {
   "cell_type": "code",
   "execution_count": 124,
   "id": "ab95c773-0042-4d95-9dcb-6afe18ef81db",
   "metadata": {},
   "outputs": [],
   "source": [
    "## changes and add in dictionary"
   ]
  },
  {
   "cell_type": "code",
   "execution_count": 126,
   "id": "667561b9-2aac-4a40-8855-d18cecc74b8d",
   "metadata": {},
   "outputs": [
    {
     "name": "stdout",
     "output_type": "stream",
     "text": [
      "{'ID': '233KB', 'color': 'red', 'year': 2002, 'a': [1, 3, 4, 6, 7, 6], 'tup': (4.5, 672, 54.23), 'c': False}\n"
     ]
    }
   ],
   "source": [
    "dic = {\n",
    "    \"ID\": \"233KB\",\n",
    "    \"color\" : \"red\",\n",
    "    \"year\": \"2025\",\n",
    "    'a' : [1,3,4,6,7,6],\n",
    "    'tup' : (4.5,672,54.23),\n",
    "    'c': False\n",
    "}\n",
    "\n",
    "dic['year'] = 2002\n",
    "print(dic)"
   ]
  },
  {
   "cell_type": "code",
   "execution_count": 130,
   "id": "f4957dde-96f0-444c-824f-ecdff63975ba",
   "metadata": {},
   "outputs": [
    {
     "name": "stdout",
     "output_type": "stream",
     "text": [
      "{'ID': '233KB', 'color': 'red', 'year': '2025', 'a': [1, 3, 4, 6, 7, 6], 'tup': (4.5, 672, 54.23), 'c': False, 'email': 'siddiquim@rknec.edu'}\n"
     ]
    }
   ],
   "source": [
    "dict = {\n",
    "    \"ID\": \"233KB\",\n",
    "    \"color\" : \"red\",\n",
    "    \"year\": \"2025\",\n",
    "    'a' : [1,3,4,6,7,6],\n",
    "    'tup' : (4.5,672,54.23),\n",
    "    'c': False\n",
    "}\n",
    "dict.update({\"email\": \"siddiquim@rknec.edu\"})\n",
    "print(dict)"
   ]
  },
  {
   "cell_type": "code",
   "execution_count": 132,
   "id": "4d4a6f17-e4c3-4726-8eb2-30073faaaf6f",
   "metadata": {},
   "outputs": [
    {
     "name": "stdout",
     "output_type": "stream",
     "text": [
      "{'ID': '233KB', 'color': 'red', 'year': '2025', 'a': [1, 3, 4, 6, 7, 6], 'tup': (4.5, 672, 54.23), 'c': False}\n"
     ]
    }
   ],
   "source": [
    "dict = {\n",
    "    \"ID\": \"233KB\",\n",
    "    \"color\" : \"red\",\n",
    "    \"year\": \"2025\",\n",
    "    'a' : [1,3,4,6,7,6],\n",
    "    'tup' : (4.5,672,54.23),\n",
    "    'c': False , \n",
    "    \"gender\" : \"male\"\n",
    "}\n",
    "\n",
    "dict.pop(\"gender\")\n",
    "print(dict)"
   ]
  },
  {
   "cell_type": "code",
   "execution_count": 134,
   "id": "b884ad01-f457-4706-a593-8575442f676d",
   "metadata": {},
   "outputs": [],
   "source": [
    " ## concatanation in dictionary"
   ]
  },
  {
   "cell_type": "code",
   "execution_count": 138,
   "id": "44863cfb-fcb6-41e4-ab95-04df1584cd01",
   "metadata": {},
   "outputs": [
    {
     "name": "stdout",
     "output_type": "stream",
     "text": [
      "{1: 10, 2: 20, 3: 30, 4: 40, 5: 50, 6: 60}\n"
     ]
    }
   ],
   "source": [
    "d1 = {1:10, 2:20}\n",
    "d2= {3:30, 4:40}\n",
    "d3 = {5:50, 6:60}\n",
    "d4 = {}\n",
    " \n",
    "for i in d1 , d2 , d3 : d4.update(i)\n",
    "print(d4)"
   ]
  },
  {
   "cell_type": "code",
   "execution_count": 150,
   "id": "43126864-1a60-4c1a-b3be-f9ecd0a78ecc",
   "metadata": {},
   "outputs": [
    {
     "name": "stdout",
     "output_type": "stream",
     "text": [
      "{1: 1, 2: 4, 3: 9, 4: 16, 5: 25, 6: 36, 7: 49, 8: 64, 9: 81, 10: 100, 11: 121, 12: 144, 13: 169, 14: 196, 15: 225}\n"
     ]
    }
   ],
   "source": [
    "dict = {}\n",
    "for x in range(1,16):\n",
    "    dict[x] = x**2\n",
    "    \n",
    "print(dict)"
   ]
  },
  {
   "cell_type": "code",
   "execution_count": null,
   "id": "d7587686-ef51-42c7-84fc-e04a72e04b25",
   "metadata": {},
   "outputs": [],
   "source": []
  },
  {
   "cell_type": "markdown",
   "id": "1f5266f5-9f24-4131-9e6a-b8a2ddebcfa0",
   "metadata": {},
   "source": [
    "## 4 .sets"
   ]
  },
  {
   "cell_type": "code",
   "execution_count": 2,
   "id": "a70b9493-b293-4d1a-b463-5ad479afd007",
   "metadata": {},
   "outputs": [
    {
     "name": "stdout",
     "output_type": "stream",
     "text": [
      "{'animals', 'cat', 'ball'}\n",
      "<class 'set'>\n"
     ]
    }
   ],
   "source": [
    "s = {\"animals\" , \"ball\" , \"cat\"}\n",
    "print(s)\n",
    "print(type(s))"
   ]
  },
  {
   "cell_type": "code",
   "execution_count": 4,
   "id": "defee5f6-8839-42dc-bcff-7e90c3bc7bd6",
   "metadata": {},
   "outputs": [],
   "source": [
    "## set are unorderd...indexing nh hoti"
   ]
  },
  {
   "cell_type": "code",
   "execution_count": 6,
   "id": "752398a9-f26f-4f91-bbb8-9fb2ac602f53",
   "metadata": {},
   "outputs": [],
   "source": [
    "## duplicates not allowed\n",
    "## true and 1 are same"
   ]
  },
  {
   "cell_type": "code",
   "execution_count": 8,
   "id": "87d51175-0540-402e-b657-05403d9e0b3d",
   "metadata": {},
   "outputs": [
    {
     "name": "stdout",
     "output_type": "stream",
     "text": [
      "{'animals', 2, 'ball', 'kon', 54, 56.8, 'cat'}\n",
      "7\n"
     ]
    }
   ],
   "source": [
    "s = {\"animals\" , \"ball\" , \"cat\" , \"kon\" , 2, 54,56.8}\n",
    "print(s)\n",
    "print(len(s))"
   ]
  },
  {
   "cell_type": "code",
   "execution_count": 10,
   "id": "1230e3c0-f28f-41de-9bd1-bcc56ab3bc61",
   "metadata": {},
   "outputs": [
    {
     "name": "stdout",
     "output_type": "stream",
     "text": [
      "{1, 2, 3, 4} {1.2, 3.4, 5.6} {'b', 'c', 'a'} {False, True}\n"
     ]
    }
   ],
   "source": [
    "x1 = {1,2,3,4}\n",
    "x2 = {1.2,3.4,5.6}\n",
    "x3 = {\"a\", \"b\" , \"c\"}\n",
    "x4 = {True , False , False}f\n",
    "print(x1,x2,x3,x4)"
   ]
  },
  {
   "cell_type": "code",
   "execution_count": 12,
   "id": "ef69707b-8cfa-4a89-91d9-bbd922016082",
   "metadata": {},
   "outputs": [],
   "source": [
    "## list aur dictionary me nh use kar skte sets ko but tuple me kar skte"
   ]
  },
  {
   "cell_type": "code",
   "execution_count": 14,
   "id": "66b0c1ad-3a0f-4272-8da0-4c03369261c1",
   "metadata": {},
   "outputs": [
    {
     "ename": "TypeError",
     "evalue": "unhashable type: 'set'",
     "output_type": "error",
     "traceback": [
      "\u001b[1;31m---------------------------------------------------------------------------\u001b[0m",
      "\u001b[1;31mTypeError\u001b[0m                                 Traceback (most recent call last)",
      "Cell \u001b[1;32mIn[14], line 1\u001b[0m\n\u001b[1;32m----> 1\u001b[0m s1 \u001b[38;5;241m=\u001b[39m {{\u001b[38;5;241m1\u001b[39m,\u001b[38;5;241m2\u001b[39m,\u001b[38;5;241m3\u001b[39m}, {\u001b[38;5;241m1\u001b[39m,\u001b[38;5;241m23\u001b[39m,\u001b[38;5;241m43\u001b[39m}}\n\u001b[0;32m      2\u001b[0m \u001b[38;5;28mprint\u001b[39m(s1)\n",
      "\u001b[1;31mTypeError\u001b[0m: unhashable type: 'set'"
     ]
    }
   ],
   "source": [
    "s1 = {{1,2,3}, {1,23,43}}\n",
    "print(s1) ## error ayaga"
   ]
  },
  {
   "cell_type": "code",
   "execution_count": 16,
   "id": "4c4ad5b0-a939-4462-96e9-cd4f12ee19e6",
   "metadata": {},
   "outputs": [],
   "source": [
    "## set constructor\n",
    "\n"
   ]
  },
  {
   "cell_type": "code",
   "execution_count": 20,
   "id": "c2590b68-ab7a-4629-8718-67f6c6c6910f",
   "metadata": {},
   "outputs": [
    {
     "name": "stdout",
     "output_type": "stream",
     "text": [
      "{'alpha', 'gama', 'beta'}\n",
      "<class 'set'>\n"
     ]
    }
   ],
   "source": [
    "my_set = set({\"alpha\" , \"beta\" , \"gama\"})\n",
    "print(my_set)\n",
    "print(type(my_set))"
   ]
  },
  {
   "cell_type": "code",
   "execution_count": 22,
   "id": "ddaf70c1-c63f-4c9b-adc9-d1edc6fe66fe",
   "metadata": {},
   "outputs": [
    {
     "name": "stdout",
     "output_type": "stream",
     "text": [
      "set()\n",
      "<class 'set'>\n"
     ]
    }
   ],
   "source": [
    "empty = set()\n",
    "print(empty)\n",
    "print(type(empty))"
   ]
  },
  {
   "cell_type": "code",
   "execution_count": 24,
   "id": "6fd2100d-2ae4-4929-b1c6-39d5b603e863",
   "metadata": {},
   "outputs": [
    {
     "name": "stdout",
     "output_type": "stream",
     "text": [
      "set()\n",
      "<class 'set'>\n"
     ]
    }
   ],
   "source": [
    "empty1 = set()\n",
    "print(empty)\n",
    "print(type(empty))"
   ]
  },
  {
   "cell_type": "code",
   "execution_count": 26,
   "id": "00e0b3d9-1465-4b0a-b49c-f508fa42c1af",
   "metadata": {},
   "outputs": [
    {
     "name": "stdout",
     "output_type": "stream",
     "text": [
      "set()\n",
      "<class 'set'>\n"
     ]
    }
   ],
   "source": [
    "empty = set()\n",
    "print(empty)\n",
    "print(type(empty))"
   ]
  },
  {
   "cell_type": "code",
   "execution_count": 28,
   "id": "c10b2bce-e9d5-4ed2-b69c-b819063e2460",
   "metadata": {},
   "outputs": [],
   "source": [
    "#3 lopps"
   ]
  },
  {
   "cell_type": "code",
   "execution_count": 30,
   "id": "97965788-3d00-4ac9-8984-c38b66396878",
   "metadata": {},
   "outputs": [],
   "source": [
    "##accesssing elemets in sets "
   ]
  },
  {
   "cell_type": "code",
   "execution_count": 32,
   "id": "03d29fd7-beaa-42d7-a71c-5fb6e0240463",
   "metadata": {},
   "outputs": [],
   "source": [
    "## how to access elements in sets"
   ]
  },
  {
   "cell_type": "code",
   "execution_count": 38,
   "id": "11284b18-125c-41c8-90f0-88d33e6a4521",
   "metadata": {},
   "outputs": [
    {
     "name": "stdout",
     "output_type": "stream",
     "text": [
      "b\n",
      "c\n",
      "a\n",
      "d\n"
     ]
    }
   ],
   "source": [
    "s = {\"a\" , \"b\" , \"c\" , \"d\"}\n",
    "for x in s:\n",
    "    print(x)"
   ]
  },
  {
   "cell_type": "code",
   "execution_count": 40,
   "id": "752a4442-ec52-4b4f-8a80-907f879d6a32",
   "metadata": {},
   "outputs": [
    {
     "name": "stdout",
     "output_type": "stream",
     "text": [
      "True\n"
     ]
    }
   ],
   "source": [
    "## to check whether items are available in set or not\n",
    "\n",
    "s = {\"a\" , \"b\" , \"c\" , \"d\"}\n",
    "print(\"c\" in s)"
   ]
  },
  {
   "cell_type": "code",
   "execution_count": 52,
   "id": "c8c6feba-b375-4826-9ff5-ed57d56b94c2",
   "metadata": {},
   "outputs": [
    {
     "name": "stdout",
     "output_type": "stream",
     "text": [
      "{'c', 'r', 'b', 'd', 'a'}\n",
      "{'c', 'r', 'd', 'a'}\n"
     ]
    }
   ],
   "source": [
    "## adding and deleting items\n",
    "s = {\"a\" , \"b\" , \"c\" , \"d\"}\n",
    "s.add(\"r\")\n",
    "print(s)\n",
    "\n",
    "s.remove(\"b\")\n",
    "print(s)"
   ]
  },
  {
   "cell_type": "code",
   "execution_count": 48,
   "id": "e9bd380c-0288-4bd0-bd7b-0d32c6414f8b",
   "metadata": {},
   "outputs": [
    {
     "name": "stdout",
     "output_type": "stream",
     "text": [
      "{352, 34, 5, 6, 74, 12, 45}\n",
      "{'python', 'code', 'data'}\n",
      "{352, 34, 5, 6, 'code', 74, 'python', 12, 45, 'data'}\n"
     ]
    }
   ],
   "source": [
    "x = {\"data\", \"python\" , \"code\"}\n",
    "y = {12,45,6,74,352,5,34}\n",
    "print(y)\n",
    "y.update(x)\n",
    "print(x)\n",
    "print(y)"
   ]
  },
  {
   "cell_type": "code",
   "execution_count": 58,
   "id": "5aaac079-a48c-48f7-8d37-fe2ce0de15bf",
   "metadata": {},
   "outputs": [
    {
     "name": "stdout",
     "output_type": "stream",
     "text": [
      "{352, 34, 5, 6, 74, 12, 45}\n",
      "352\n"
     ]
    }
   ],
   "source": [
    "##pop random remove krega\n",
    "y = {12,45,6,74,352,5,34}\n",
    "print(y)\n",
    "m= y.pop()\n",
    "print(m)\n"
   ]
  },
  {
   "cell_type": "code",
   "execution_count": 64,
   "id": "08fa4e74-ac3c-42fd-8704-01fdef9854ec",
   "metadata": {},
   "outputs": [
    {
     "name": "stdout",
     "output_type": "stream",
     "text": [
      "set()\n"
     ]
    }
   ],
   "source": [
    "## clear pura remove krne k liye use krenge\n",
    "y = {12,45,6,74,352,5,34}\n",
    "3##print(y)\n",
    "y.clear()\n",
    "print(y)"
   ]
  },
  {
   "cell_type": "code",
   "execution_count": 66,
   "id": "46fdacee-8f3b-4447-a91c-f3e49fce2a6b",
   "metadata": {},
   "outputs": [
    {
     "name": "stdout",
     "output_type": "stream",
     "text": [
      "{352, 34, 5, 6, 'code', 74, 'python', 12, 45, 'data'}\n"
     ]
    }
   ],
   "source": [
    "## join two sets\n",
    "y = {12,45,6,74,352,5,34}\n",
    "s = {\"a\" , \"b\" , \"c\" , \"d\"}\n",
    "z = y.union(x)\n",
    "print(z)"
   ]
  },
  {
   "cell_type": "code",
   "execution_count": 68,
   "id": "4cf05890-3bde-4e82-ae44-b1e019f12788",
   "metadata": {},
   "outputs": [],
   "source": [
    "## max(), min()\n"
   ]
  },
  {
   "cell_type": "code",
   "execution_count": 70,
   "id": "3f062481-3401-4c7d-ad07-72d9fa2efb61",
   "metadata": {},
   "outputs": [],
   "source": [
    "## returning intersection means common in both sets"
   ]
  },
  {
   "cell_type": "code",
   "execution_count": 74,
   "id": "36a911a0-0f8b-48d7-9bb8-c4dc23853390",
   "metadata": {},
   "outputs": [
    {
     "name": "stdout",
     "output_type": "stream",
     "text": [
      "{32, 34, 43, 632}\n"
     ]
    }
   ],
   "source": [
    "set1 = {12,34,5,632,32,43}\n",
    "set2 = {23,34,632,43,65,34,32,2}\n",
    "print(set2.intersection(set1))"
   ]
  },
  {
   "cell_type": "code",
   "execution_count": 102,
   "id": "7fd4e68c-2a85-42ee-bf0d-fdd19db0e5fd",
   "metadata": {},
   "outputs": [
    {
     "name": "stdout",
     "output_type": "stream",
     "text": [
      "{1, 2, 3, 554, 45, 46, 655, -1}\n",
      "length of this set is:  8\n",
      "max of this set is:  655\n",
      "min of this set is:  -1\n",
      "converted to tuple (1, 2, 3, 554, 45, 46, 655, -1)\n",
      "<class 'tuple'>\n"
     ]
    }
   ],
   "source": [
    "##assignments\n",
    "set1 = {2,3,45,46,554,655,1,-1}\n",
    "print(set1)\n",
    "print(\"length of this set is: \" ,len(set1))\n",
    "print(\"max of this set is: \" ,  max(set1))\n",
    "print(\"min of this set is: \" , min(set1))\n",
    "\n",
    "## converting this to tuple:\n",
    "tup = tuple(set1)\n",
    "print(\"converted to tuple\" , tup)\n",
    "print(type(tup))"
   ]
  },
  {
   "cell_type": "code",
   "execution_count": null,
   "id": "f6a6fdd8-7f2d-421a-a519-9ab9b6dd8747",
   "metadata": {},
   "outputs": [],
   "source": []
  }
 ],
 "metadata": {
  "kernelspec": {
   "display_name": "Python 3 (ipykernel)",
   "language": "python",
   "name": "python3"
  },
  "language_info": {
   "codemirror_mode": {
    "name": "ipython",
    "version": 3
   },
   "file_extension": ".py",
   "mimetype": "text/x-python",
   "name": "python",
   "nbconvert_exporter": "python",
   "pygments_lexer": "ipython3",
   "version": "3.12.4"
  }
 },
 "nbformat": 4,
 "nbformat_minor": 5
}
