{
 "cells": [
  {
   "cell_type": "markdown",
   "id": "845adf2f-38c1-41f3-b36a-ffc4fe62ad30",
   "metadata": {},
   "source": [
    "## Strings"
   ]
  },
  {
   "cell_type": "code",
   "execution_count": 2,
   "id": "bce949b8-5f14-489d-8f37-c794ea7699fd",
   "metadata": {},
   "outputs": [
    {
     "name": "stdout",
     "output_type": "stream",
     "text": [
      "hello\n"
     ]
    }
   ],
   "source": [
    "s = \"hello\"\n",
    "print(s)"
   ]
  },
  {
   "cell_type": "code",
   "execution_count": 4,
   "id": "2091a868-9ffa-4b36-ab0d-6807696210e5",
   "metadata": {},
   "outputs": [
    {
     "name": "stdout",
     "output_type": "stream",
     "text": [
      "hiii\n"
     ]
    }
   ],
   "source": [
    "s = 'hiii'\n",
    "print(s)"
   ]
  },
  {
   "cell_type": "code",
   "execution_count": 8,
   "id": "967aa99c-74a8-4240-b468-1eb7224c0d10",
   "metadata": {},
   "outputs": [
    {
     "name": "stdout",
     "output_type": "stream",
     "text": [
      "h\n",
      "i\n",
      "i\n"
     ]
    }
   ],
   "source": [
    "s = \"\"\"h\n",
    "i\n",
    "i\"\"\"\n",
    "\n",
    "print(s)"
   ]
  },
  {
   "cell_type": "code",
   "execution_count": 10,
   "id": "bfa8242d-e60f-43dc-9080-a8c6fab94518",
   "metadata": {},
   "outputs": [],
   "source": [
    "## 3 inverted comma se apn khi bhi line se start kar skte hai\n"
   ]
  },
  {
   "cell_type": "markdown",
   "id": "9f1529b9-6295-4e1b-9f50-4b7eba4b3a56",
   "metadata": {},
   "source": [
    "## indexing"
   ]
  },
  {
   "cell_type": "code",
   "execution_count": 14,
   "id": "0c1affbf-623c-4893-8eaa-3aec099dd976",
   "metadata": {},
   "outputs": [
    {
     "name": "stdout",
     "output_type": "stream",
     "text": [
      "n\n"
     ]
    }
   ],
   "source": [
    "s = \"hello students\"\n",
    "print(s[11]) ## positive indexing aage se start hoga"
   ]
  },
  {
   "cell_type": "code",
   "execution_count": 16,
   "id": "5d2949a8-3b6f-4602-8f3e-34018acd867b",
   "metadata": {},
   "outputs": [
    {
     "name": "stdout",
     "output_type": "stream",
     "text": [
      "s\n"
     ]
    }
   ],
   "source": [
    "s = \"hello students\"\n",
    "print(s[-8]) ## negative index piche se start hoga"
   ]
  },
  {
   "cell_type": "markdown",
   "id": "9aafcc95-012f-4ef7-b5ca-9e214357d963",
   "metadata": {},
   "source": [
    "## slicing of strings"
   ]
  },
  {
   "cell_type": "code",
   "execution_count": 19,
   "id": "805e52fd-b674-4eb3-8af6-1aca3fb4f9d6",
   "metadata": {},
   "outputs": [],
   "source": [
    "## slicing mtlb ek sentence me kuch chiz cut krke alg krde"
   ]
  },
  {
   "cell_type": "code",
   "execution_count": 23,
   "id": "81dc8a28-3434-489f-95f0-0533fce65f02",
   "metadata": {},
   "outputs": [
    {
     "name": "stdout",
     "output_type": "stream",
     "text": [
      "hii a\n"
     ]
    }
   ],
   "source": [
    "s = \"hii all how are you\"\n",
    "print(s[0:5])   # syntax......[start index: end index]"
   ]
  },
  {
   "cell_type": "code",
   "execution_count": 27,
   "id": "678b9258-1c65-4450-aaba-1fc58ba47880",
   "metadata": {},
   "outputs": [
    {
     "name": "stdout",
     "output_type": "stream",
     "text": [
      " how are\n"
     ]
    }
   ],
   "source": [
    "s = \"hii all how are you\"\n",
    "print(s[7:15])"
   ]
  },
  {
   "cell_type": "code",
   "execution_count": 33,
   "id": "8f95da6e-542e-4aba-8413-448214cec2c6",
   "metadata": {},
   "outputs": [
    {
     "name": "stdout",
     "output_type": "stream",
     "text": [
      "h loa u\n"
     ]
    }
   ],
   "source": [
    "s = \"hii all how are you\"\n",
    "print(s[0:20:3]) ## [start: end: skip] ....skip wale me if apne ko 1 letter skit krna h to ek zyada likhna pdega i+ 1"
   ]
  },
  {
   "cell_type": "markdown",
   "id": "fae2e203-87d5-4621-812a-b4f038d55b3f",
   "metadata": {},
   "source": [
    "## reverse string"
   ]
  },
  {
   "cell_type": "code",
   "execution_count": 42,
   "id": "de324674-9534-4aa2-8548-ebe0ddf762de",
   "metadata": {},
   "outputs": [
    {
     "name": "stdout",
     "output_type": "stream",
     "text": [
      "uoy era woh lla iih\n"
     ]
    }
   ],
   "source": [
    "s = \"hii all how are you\"\n",
    "print(s[::-1])"
   ]
  },
  {
   "cell_type": "code",
   "execution_count": 54,
   "id": "338b8152-8edd-4acb-90ba-a7f4d3d13ee4",
   "metadata": {},
   "outputs": [
    {
     "name": "stdout",
     "output_type": "stream",
     "text": [
      "  A well-organized paragraph supports or develops a single controlling idea, which is expressed in a sentence called the topic sentence. A topic sentence has several important functions: it substantiates or supports an essay’s thesis statement; it unifies the content of a paragraph and directs the order of the sentences; and it advises the reader of the subject to be discussed and how the paragraph will discuss it. Readers generally look to the first few sentences in a paragraph to determine the subject and perspective of the paragraph. That’s why it’s often best to put the topic sentence at the very beginning of the paragraph. In some cases, however, it’s more effective to place another sentence before the topic sentence—for example, a sentence linking the current paragraph to the previous one, or one providing background information.\n",
      "\n",
      "Although most paragraphs should have a topic sentence, there are a few situations when a paragraph might not need a topic sentence. For example, you might be able to omit a topic sentence in a paragraph that narrates a series of events, if a paragraph continues developing an idea that you introduced (with a topic sentence) in the previous paragraph, or if all the sentences and details in a paragraph clearly refer—perhaps indirectly—to a main point. The vast majority of your paragraphs, however, should have a topic sentence. \n",
      "1379\n"
     ]
    }
   ],
   "source": [
    "s = \"\"\"  A well-organized paragraph supports or develops a single controlling idea, which is expressed in a sentence called the topic sentence. A topic sentence has several important functions: it substantiates or supports an essay’s thesis statement; it unifies the content of a paragraph and directs the order of the sentences; and it advises the reader of the subject to be discussed and how the paragraph will discuss it. Readers generally look to the first few sentences in a paragraph to determine the subject and perspective of the paragraph. That’s why it’s often best to put the topic sentence at the very beginning of the paragraph. In some cases, however, it’s more effective to place another sentence before the topic sentence—for example, a sentence linking the current paragraph to the previous one, or one providing background information.\n",
    "\n",
    "Although most paragraphs should have a topic sentence, there are a few situations when a paragraph might not need a topic sentence. For example, you might be able to omit a topic sentence in a paragraph that narrates a series of events, if a paragraph continues developing an idea that you introduced (with a topic sentence) in the previous paragraph, or if all the sentences and details in a paragraph clearly refer—perhaps indirectly—to a main point. The vast majority of your paragraphs, however, should have a topic sentence. \"\"\" \n",
    "\n",
    "\n",
    "print(s)\n",
    "print(len(s))\n"
   ]
  },
  {
   "cell_type": "code",
   "execution_count": 56,
   "id": "07246502-6979-4118-b1c8-e4c702b1820a",
   "metadata": {},
   "outputs": [],
   "source": [
    "## length print"
   ]
  },
  {
   "cell_type": "markdown",
   "id": "50b41e1a-a67e-48dc-84e2-9cf18a4d4786",
   "metadata": {},
   "source": [
    "## upper method and lower method"
   ]
  },
  {
   "cell_type": "code",
   "execution_count": 60,
   "id": "79c5a565-1768-4806-9e77-45fbbbb1a5b4",
   "metadata": {},
   "outputs": [
    {
     "name": "stdout",
     "output_type": "stream",
     "text": [
      "HELLO HOW ARE YOU??\n"
     ]
    }
   ],
   "source": [
    "a = \"hello how are you??\"\n",
    "\n",
    "print(a.upper())"
   ]
  },
  {
   "cell_type": "code",
   "execution_count": 62,
   "id": "a9493d1b-aa46-4eba-8e48-0b3510fad356",
   "metadata": {},
   "outputs": [
    {
     "name": "stdout",
     "output_type": "stream",
     "text": [
      "helooo ky ho rha hai\n"
     ]
    }
   ],
   "source": [
    "s = \"HELOOO KY HO RHA HAI\"\n",
    "print(s.lower())"
   ]
  },
  {
   "cell_type": "code",
   "execution_count": 65,
   "id": "184117f7-28c8-47cf-8488-ec8469264e8e",
   "metadata": {},
   "outputs": [
    {
     "name": "stdout",
     "output_type": "stream",
     "text": [
      "bye how are you??\n"
     ]
    }
   ],
   "source": [
    "## replace function\n",
    "a = \"hello how are you??\"\n",
    "print(a.replace(\"hello\" , \"bye\"))"
   ]
  },
  {
   "cell_type": "code",
   "execution_count": 71,
   "id": "25185b34-9da3-4bf3-9a17-8bf40d44e7ba",
   "metadata": {},
   "outputs": [
    {
     "name": "stdout",
     "output_type": "stream",
     "text": [
      "yello yow are you??\n"
     ]
    }
   ],
   "source": [
    "a = \"hello how are you??\"\n",
    "print(a.replace(\"h\" , \"y\"))"
   ]
  },
  {
   "cell_type": "markdown",
   "id": "c7e0c7f7-9066-4d0a-a9b4-4f1368e1e841",
   "metadata": {},
   "source": [
    "## find method"
   ]
  },
  {
   "cell_type": "code",
   "execution_count": 80,
   "id": "b8269518-406b-48e1-91f1-2dce815bcf40",
   "metadata": {},
   "outputs": [
    {
     "name": "stdout",
     "output_type": "stream",
     "text": [
      "10\n"
     ]
    }
   ],
   "source": [
    "a = \"python is great\"\n",
    "b = a.find(\"g\")\n",
    "print(b)"
   ]
  },
  {
   "cell_type": "code",
   "execution_count": null,
   "id": "d05e9d05-516a-4a58-b1d4-0aed32fea81f",
   "metadata": {},
   "outputs": [],
   "source": []
  },
  {
   "cell_type": "code",
   "execution_count": null,
   "id": "f60a0f3e-f836-4aea-bc0f-72dad48aa82e",
   "metadata": {},
   "outputs": [],
   "source": []
  }
 ],
 "metadata": {
  "kernelspec": {
   "display_name": "Python 3 (ipykernel)",
   "language": "python",
   "name": "python3"
  },
  "language_info": {
   "codemirror_mode": {
    "name": "ipython",
    "version": 3
   },
   "file_extension": ".py",
   "mimetype": "text/x-python",
   "name": "python",
   "nbconvert_exporter": "python",
   "pygments_lexer": "ipython3",
   "version": "3.12.4"
  }
 },
 "nbformat": 4,
 "nbformat_minor": 5
}
