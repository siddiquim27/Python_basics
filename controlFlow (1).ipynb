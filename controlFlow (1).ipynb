{
 "cells": [
  {
   "cell_type": "markdown",
   "id": "ae5efc60-233c-4fb7-a450-6bcf8323cbc0",
   "metadata": {},
   "source": [
    "# control flow statements"
   ]
  },
  {
   "cell_type": "markdown",
   "id": "f3fad2e7-e528-4719-8c3e-115e5ddad868",
   "metadata": {},
   "source": [
    "# if condition"
   ]
  },
  {
   "cell_type": "code",
   "execution_count": 11,
   "id": "e6489985-16a4-46a5-bc27-e970bdec11ed",
   "metadata": {},
   "outputs": [
    {
     "name": "stdin",
     "output_type": "stream",
     "text": [
      "enter the name of student noman\n",
      "enter the marks of ENGLISH 90\n",
      "enter the marks of HINDI 87\n",
      "enter the marks of MATHS 99\n",
      "enter the marks of SCIENCE 55\n",
      "enter the marks of SOCIAL 60\n"
     ]
    },
    {
     "name": "stdout",
     "output_type": "stream",
     "text": [
      "your percentage is : 78.2\n"
     ]
    }
   ],
   "source": [
    "# if condition\n",
    "# calculate percentage of students\n",
    "\n",
    "x = input(\"enter the name of student\")\n",
    "a = int(input(\"enter the marks of ENGLISH\"))\n",
    "b = int(input(\"enter the marks of HINDI\"))\n",
    "c = int(input(\"enter the marks of MATHS\"))\n",
    "d = int(input(\"enter the marks of SCIENCE\"))\n",
    "e = int(input(\"enter the marks of SOCIAL\"))\n",
    "\n",
    "sum = (a + b + c + d + e)\n",
    "percentage = (sum/500) * 100\n",
    "\n",
    "print(\"your percentage is :\" , percentage)\n",
    "\n",
    "\n"
   ]
  },
  {
   "cell_type": "code",
   "execution_count": 2,
   "id": "308d21b6-9338-4ae8-a266-f2db7fdc992e",
   "metadata": {},
   "outputs": [],
   "source": [
    " #  if else control......conditional statements\n",
    "# syntax;\n",
    "\n",
    "# if condition:\n",
    "#    statement 1\n",
    "#  statement 2\n",
    "\n"
   ]
  },
  {
   "cell_type": "markdown",
   "id": "b411f95a-0174-4c88-a856-216614d9d68e",
   "metadata": {},
   "source": [
    "a = float(input(\"enter your percentage\"))\n",
    "\n",
    "if a>= 90:\n",
    "    print(\"Grade A\")\n",
    "if a>= 75 and a<=90:\n",
    "    print(\"Grade B\")\n",
    "if a >= 65 and a<= 75:\n",
    "    print(\"Grade C\")"
   ]
  },
  {
   "cell_type": "markdown",
   "id": "eeb52bda-e542-4370-8329-d25f45ddc1c0",
   "metadata": {},
   "source": [
    "# if else condition"
   ]
  },
  {
   "cell_type": "code",
   "execution_count": 24,
   "id": "0ed04ca1-b519-49ac-a48b-bd55b53c9524",
   "metadata": {},
   "outputs": [
    {
     "name": "stdin",
     "output_type": "stream",
     "text": [
      "enter the number:  43\n"
     ]
    },
    {
     "name": "stdout",
     "output_type": "stream",
     "text": [
      "not divisible\n"
     ]
    }
   ],
   "source": [
    "# to check a number is divisible by 5 or not\n",
    "a = int(input(\"enter the number: \"))\n",
    "\n",
    "if a % 5  == 0:\n",
    "    print(\"yes it is multiple of 5\")\n",
    "else:\n",
    "    print(\"not divisible\")"
   ]
  },
  {
   "cell_type": "code",
   "execution_count": 30,
   "id": "11788b46-8069-44fa-8e52-fd572e8c3b87",
   "metadata": {},
   "outputs": [
    {
     "name": "stdin",
     "output_type": "stream",
     "text": [
      "enter your number -56\n"
     ]
    },
    {
     "name": "stdout",
     "output_type": "stream",
     "text": [
      "no it is not a positive number\n"
     ]
    }
   ],
   "source": [
    "# to check a number is positive or not\n",
    "a = float(input(\"enter your number\"))\n",
    "\n",
    "if a > 0:\n",
    "    print(\"yes it is a positive  number\")\n",
    "else:\n",
    "    print(\"no it is not a positive number\")\n"
   ]
  },
  {
   "cell_type": "markdown",
   "id": "2a10f22b-3088-46b6-924a-16063e2793d6",
   "metadata": {},
   "source": [
    "# if-elif-else control statements"
   ]
  },
  {
   "cell_type": "code",
   "execution_count": 38,
   "id": "ddf1c0f5-8eda-4448-8c1e-6590c1f6b022",
   "metadata": {},
   "outputs": [
    {
     "name": "stdin",
     "output_type": "stream",
     "text": [
      "enter the city Nagpur\n"
     ]
    },
    {
     "name": "stdout",
     "output_type": "stream",
     "text": [
      "record not found\n"
     ]
    }
   ],
   "source": [
    "city = input(\"enter the city\")\n",
    "\n",
    "if city == \"Delhi\":\n",
    "    print(\"the monument is REDFORT\")\n",
    "elif city == \"Agra\":\n",
    "    print(\"TAJMAHAL\")\n",
    "elif city == \"Jaipur\":\n",
    "    print(\"JALMAHAL\")\n",
    "else:\n",
    "    print(\"record not found\")\n",
    "    "
   ]
  },
  {
   "cell_type": "code",
   "execution_count": null,
   "id": "2411d9e0-ac22-4c28-8d6d-97a519e0e5e0",
   "metadata": {},
   "outputs": [],
   "source": []
  }
 ],
 "metadata": {
  "kernelspec": {
   "display_name": "Python 3 (ipykernel)",
   "language": "python",
   "name": "python3"
  },
  "language_info": {
   "codemirror_mode": {
    "name": "ipython",
    "version": 3
   },
   "file_extension": ".py",
   "mimetype": "text/x-python",
   "name": "python",
   "nbconvert_exporter": "python",
   "pygments_lexer": "ipython3",
   "version": "3.12.4"
  }
 },
 "nbformat": 4,
 "nbformat_minor": 5
}
