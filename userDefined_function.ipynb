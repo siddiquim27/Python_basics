{
 "cells": [
  {
   "cell_type": "markdown",
   "id": "b0029e2a-a0a0-4cb8-9b41-3051bc4ce850",
   "metadata": {},
   "source": [
    "# user defined function"
   ]
  },
  {
   "cell_type": "code",
   "execution_count": 2,
   "id": "b75b5efb-2deb-44a9-abcf-8762843804f9",
   "metadata": {},
   "outputs": [],
   "source": [
    "# user defined function k liye \"def\" ka use krte hai phle"
   ]
  },
  {
   "cell_type": "code",
   "execution_count": 5,
   "id": "babe2d5d-ec55-4c2e-b42d-ea5ffb000b25",
   "metadata": {},
   "outputs": [],
   "source": [
    "#function 1\n",
    "\n",
    "def sum():\n",
    "    a = 4\n",
    "    b= 5\n",
    "    n = a + b\n",
    "    print(n)"
   ]
  },
  {
   "cell_type": "code",
   "execution_count": 7,
   "id": "c5423eaa-4c65-471f-8fbe-96b8e13f067d",
   "metadata": {},
   "outputs": [
    {
     "name": "stdout",
     "output_type": "stream",
     "text": [
      "9\n"
     ]
    }
   ],
   "source": [
    "sum()"
   ]
  },
  {
   "cell_type": "code",
   "execution_count": 9,
   "id": "ba206799-70a1-4f5a-b077-bf9f66ab174b",
   "metadata": {},
   "outputs": [],
   "source": [
    "# result of a student\n",
    "\n",
    "def contact():\n",
    "    print(\"contact Details...\")\n",
    "    print(\"Rcoem\")\n",
    "    print(\"Nagpur , Maharashtra\")\n",
    "    print(\"7420076205\")\n",
    "    print(\"siddiquim@rknec.edu\")"
   ]
  },
  {
   "cell_type": "code",
   "execution_count": 17,
   "id": "2f19cb47-18e1-492a-ae2f-8595c8a1a05f",
   "metadata": {
    "scrolled": true
   },
   "outputs": [
    {
     "name": "stdout",
     "output_type": "stream",
     "text": [
      "Student 1\n"
     ]
    },
    {
     "name": "stdin",
     "output_type": "stream",
     "text": [
      "enter your name Noman\n",
      "your makrs in Maths is - >  12\n",
      "your makrs in DAA is - >  14\n",
      "your makrs in ME is - >  15\n",
      "your makrs in EE is - >  15\n",
      "your makrs in OS is - >  15\n",
      "your makrs in SE is - >  16\n"
     ]
    },
    {
     "name": "stdout",
     "output_type": "stream",
     "text": [
      "\n",
      "contact Details...\n",
      "Rcoem\n",
      "Nagpur , Maharashtra\n",
      "7420076205\n",
      "siddiquim@rknec.edu\n",
      "Student 1\n"
     ]
    },
    {
     "name": "stdin",
     "output_type": "stream",
     "text": [
      "enter your name kushagra\n",
      "your makrs in Maths is - >  16\n",
      "your makrs in DAA is - >  11\n",
      "your makrs in ME is - >  17\n",
      "your makrs in EE is - >  16\n",
      "your makrs in OS is - >  16\n",
      "your makrs in SE is - >  14\n"
     ]
    },
    {
     "name": "stdout",
     "output_type": "stream",
     "text": [
      "\n",
      "contact Details...\n",
      "Rcoem\n",
      "Nagpur , Maharashtra\n",
      "7420076205\n",
      "siddiquim@rknec.edu\n"
     ]
    }
   ],
   "source": [
    "for i in range(2):\n",
    "    i = 1\n",
    "    print(\"Student\", i)\n",
    "    name = input(\"enter your name\")\n",
    "    a = input(\"your makrs in Maths is - > \")\n",
    "    b = input(\"your makrs in DAA is - > \")\n",
    "    c = input(\"your makrs in ME is - > \")\n",
    "    d = input(\"your makrs in EE is - > \")\n",
    "    e = input(\"your makrs in OS is - > \")\n",
    "    f = input(\"your makrs in SE is - > \")\n",
    "    i = i + 1\n",
    "\n",
    "    print()\n",
    "    contact()\n",
    "    i = i + 1\n",
    "    "
   ]
  },
  {
   "cell_type": "markdown",
   "id": "34878195-3596-4362-a897-a20c2b7bca99",
   "metadata": {},
   "source": [
    "## Arguments"
   ]
  },
  {
   "cell_type": "code",
   "execution_count": 21,
   "id": "214d06ca-f941-4b49-bdbc-5559fc44ba81",
   "metadata": {},
   "outputs": [],
   "source": [
    "## function k under values pass krna\n",
    "\n",
    "def my_function(fName):\n",
    "    print(fName , \"Siddiqui\")"
   ]
  },
  {
   "cell_type": "code",
   "execution_count": 33,
   "id": "821edf5f-ab85-4c70-ba49-2b76c4fbc7c6",
   "metadata": {},
   "outputs": [
    {
     "name": "stdout",
     "output_type": "stream",
     "text": [
      "Noman Siddiqui\n",
      "Lukman Siddiqui\n"
     ]
    }
   ],
   "source": [
    "my_function(\"Noman\")\n",
    "my_function(\"Lukman\")"
   ]
  },
  {
   "cell_type": "code",
   "execution_count": 35,
   "id": "f54b2e48-1876-4d86-8b43-5a4f55203ab5",
   "metadata": {},
   "outputs": [],
   "source": [
    "def name_function(fname , lname):\n",
    "    print(fname + \" \" + lname)"
   ]
  },
  {
   "cell_type": "code",
   "execution_count": 39,
   "id": "719d1820-ac9f-4930-879c-6596de9a092f",
   "metadata": {},
   "outputs": [
    {
     "name": "stdout",
     "output_type": "stream",
     "text": [
      "noman siddiqui\n"
     ]
    }
   ],
   "source": [
    "name_function(\"noman\" , \"siddiqui\") # calling a function"
   ]
  },
  {
   "cell_type": "code",
   "execution_count": 67,
   "id": "59ff7cc7-f275-4226-91ee-7b44039a27da",
   "metadata": {},
   "outputs": [],
   "source": [
    "# electricity bill \n",
    "def Electricity_Bill():\n",
    "    if n <= 500:\n",
    "        print(\"your bill is Rs\" , n * 5)\n",
    "    elif n > 500 and n <= 700:\n",
    "        print(\"your bill is Rs..\" , n * 10)\n",
    "    elif n > 700 and n <= 1000:\n",
    "        print(\"your bill is Rs \" , n * 15)\n",
    "    elif n > 1000 and n <= 1500:\n",
    "        print(\"your bill is Rs \" , n * 20)\n",
    "    else:\n",
    "        print(\"you have to pay 5000 rupess\")"
   ]
  },
  {
   "cell_type": "code",
   "execution_count": 73,
   "id": "b2c2ea4c-2061-49c4-8421-eee9971d48b2",
   "metadata": {},
   "outputs": [],
   "source": [
    "def instructions():\n",
    "    print(\"the last date to pay your bill is 16 march\")\n",
    "    print(\"after 16 march you will have to pay 3rs extra per unit of charge\")\n",
    "    "
   ]
  },
  {
   "cell_type": "code",
   "execution_count": 77,
   "id": "49b89dbc-c593-423f-9d71-8ec333d4e5de",
   "metadata": {},
   "outputs": [
    {
     "name": "stdin",
     "output_type": "stream",
     "text": [
      "enter your name->  NOMAN\n",
      "enter how much unit of electricity you have used->  3456\n"
     ]
    },
    {
     "name": "stdout",
     "output_type": "stream",
     "text": [
      "\n",
      "you have to pay 5000 rupess\n",
      "\n",
      "the last date to pay your bill is 16 march\n",
      "after 16 march you will have to pay 3rs extra per unit of charge\n"
     ]
    },
    {
     "name": "stdin",
     "output_type": "stream",
     "text": [
      "enter your name->  LUKMAN\n",
      "enter how much unit of electricity you have used->  355\n"
     ]
    },
    {
     "name": "stdout",
     "output_type": "stream",
     "text": [
      "\n",
      "your bill is Rs 1775.0\n",
      "\n",
      "the last date to pay your bill is 16 march\n",
      "after 16 march you will have to pay 3rs extra per unit of charge\n"
     ]
    }
   ],
   "source": [
    "for i in range(2):\n",
    "    name = input(\"enter your name-> \")\n",
    "    n = float(input(\"enter how much unit of electricity you have used-> \"))\n",
    "    print()\n",
    "\n",
    "    Electricity_Bill()\n",
    "    print()\n",
    "    instructions()\n",
    "    "
   ]
  },
  {
   "cell_type": "code",
   "execution_count": null,
   "id": "2666c23b-8558-42fc-9da5-ff892f9bc388",
   "metadata": {},
   "outputs": [],
   "source": []
  }
 ],
 "metadata": {
  "kernelspec": {
   "display_name": "Python 3 (ipykernel)",
   "language": "python",
   "name": "python3"
  },
  "language_info": {
   "codemirror_mode": {
    "name": "ipython",
    "version": 3
   },
   "file_extension": ".py",
   "mimetype": "text/x-python",
   "name": "python",
   "nbconvert_exporter": "python",
   "pygments_lexer": "ipython3",
   "version": "3.12.4"
  }
 },
 "nbformat": 4,
 "nbformat_minor": 5
}
