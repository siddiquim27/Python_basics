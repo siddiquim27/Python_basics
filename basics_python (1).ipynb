{
 "cells": [
  {
   "cell_type": "markdown",
   "id": "91d763ed-82a1-41d7-9093-443e03a55372",
   "metadata": {},
   "source": [
    "# PYTHON"
   ]
  },
  {
   "cell_type": "code",
   "execution_count": 6,
   "id": "74236502-797f-4820-9aef-ea6806ddad06",
   "metadata": {},
   "outputs": [
    {
     "name": "stdout",
     "output_type": "stream",
     "text": [
      "hello world\n"
     ]
    }
   ],
   "source": [
    "print(\"hello world\")"
   ]
  },
  {
   "cell_type": "code",
   "execution_count": 1,
   "id": "e40364a8-4cb4-4c7e-8b58-0928eeb96ef3",
   "metadata": {},
   "outputs": [
    {
     "name": "stdout",
     "output_type": "stream",
     "text": [
      "noman\n"
     ]
    }
   ],
   "source": [
    "print(\"noman\")"
   ]
  },
  {
   "cell_type": "code",
   "execution_count": 4,
   "id": "d4ec2106-5319-49ea-8658-552c26d211da",
   "metadata": {},
   "outputs": [
    {
     "name": "stdout",
     "output_type": "stream",
     "text": [
      "5\n"
     ]
    }
   ],
   "source": [
    "print(2 + 3)"
   ]
  },
  {
   "cell_type": "markdown",
   "id": "34bffd12-f410-4256-bd3f-4dbdc9aeab93",
   "metadata": {},
   "source": [
    "# MULTILINE COMMENT"
   ]
  },
  {
   "cell_type": "code",
   "execution_count": 9,
   "id": "b8ccc850-29bd-48a5-ab65-1c18e9e5a1e6",
   "metadata": {},
   "outputs": [
    {
     "name": "stdout",
     "output_type": "stream",
     "text": [
      "16\n"
     ]
    }
   ],
   "source": [
    "# comment 1\n",
    "# comment 2\n",
    "# comment 3\n",
    "\n",
    "print(4 * 4)"
   ]
  },
  {
   "cell_type": "markdown",
   "id": "94201f42-316c-4325-b934-d1be4f941f70",
   "metadata": {},
   "source": [
    "# Variables and operators"
   ]
  },
  {
   "cell_type": "code",
   "execution_count": 16,
   "id": "03da4d7b-3ce0-4740-a1fa-f4190b3dfc20",
   "metadata": {},
   "outputs": [
    {
     "name": "stdout",
     "output_type": "stream",
     "text": [
      "5\n",
      "noman\n"
     ]
    }
   ],
   "source": [
    "# variables are case sensitive\n",
    "# variable kabhi number se start nh hoga----- jaise 1@4 aise variable k name nh likh skte error ayga\n",
    "x = 5\n",
    "y = \"noman\"\n",
    "print(x)\n",
    "print(y)\n"
   ]
  },
  {
   "cell_type": "code",
   "execution_count": 22,
   "id": "fc23b29a-40f3-4206-b65d-4661fe429544",
   "metadata": {},
   "outputs": [
    {
     "name": "stdout",
     "output_type": "stream",
     "text": [
      "mohammad\n",
      "noman\n",
      "siddiqui\n"
     ]
    }
   ],
   "source": [
    "# single line me sare variable declare kar skte...\n",
    "x , y , z = \"mohammad\", \"noman\", \"siddiqui\"\n",
    "\n",
    "print(x)\n",
    "print(y)\n",
    "print(z)"
   ]
  },
  {
   "cell_type": "code",
   "execution_count": 24,
   "id": "d8fc2351-4f05-4e8d-9e23-f0918940bd6b",
   "metadata": {},
   "outputs": [
    {
     "name": "stdout",
     "output_type": "stream",
     "text": [
      "noman 3\n"
     ]
    }
   ],
   "source": [
    "a = \"noman\"\n",
    "b = 3\n",
    "\n",
    "print(a , b)"
   ]
  },
  {
   "cell_type": "code",
   "execution_count": 28,
   "id": "a6e0e09f-28de-4865-a433-c8836435d0a3",
   "metadata": {},
   "outputs": [
    {
     "ename": "NameError",
     "evalue": "name '_A' is not defined",
     "output_type": "error",
     "traceback": [
      "\u001b[1;31m---------------------------------------------------------------------------\u001b[0m",
      "\u001b[1;31mNameError\u001b[0m                                 Traceback (most recent call last)",
      "Cell \u001b[1;32mIn[28], line 2\u001b[0m\n\u001b[0;32m      1\u001b[0m a \u001b[38;5;241m=\u001b[39m \u001b[38;5;241m5\u001b[39m\n\u001b[1;32m----> 2\u001b[0m \u001b[38;5;28mprint\u001b[39m(_A)\n",
      "\u001b[1;31mNameError\u001b[0m: name '_A' is not defined"
     ]
    }
   ],
   "source": [
    "a = 5\n",
    "print(_A) # case sensitive hota h isiliye error arha hai"
   ]
  },
  {
   "cell_type": "code",
   "execution_count": 30,
   "id": "0b004937-4fcd-43de-a47a-be8049719ad8",
   "metadata": {},
   "outputs": [
    {
     "name": "stdout",
     "output_type": "stream",
     "text": [
      "python is amazing\n",
      "\n",
      "python\n",
      "is\n",
      "amazing\n"
     ]
    }
   ],
   "source": [
    "x = \"python\"\n",
    "y = \"is\"\n",
    "z = \"amazing\"\n",
    "\n",
    "\n",
    "print(x,y,z)\n",
    "\n",
    "print()\n",
    "\n",
    "print(x)\n",
    "print(y)\n",
    "print(z)"
   ]
  },
  {
   "cell_type": "markdown",
   "id": "1cb37b65-297c-43cf-a530-f3fab2716666",
   "metadata": {},
   "source": [
    "# data types"
   ]
  },
  {
   "cell_type": "code",
   "execution_count": 33,
   "id": "2b9e7ef2-3cb5-4c10-a286-828c35de80c6",
   "metadata": {},
   "outputs": [],
   "source": [
    "# numeric -> integer and float\n",
    "# dictionary'\n",
    "# boolean\n",
    "# set\n",
    "# sequence type -> string , tuple and list"
   ]
  },
  {
   "cell_type": "code",
   "execution_count": 35,
   "id": "db4a6792-76cb-4f6f-b1a5-04437786acb7",
   "metadata": {},
   "outputs": [
    {
     "name": "stdout",
     "output_type": "stream",
     "text": [
      "2\n",
      "<class 'int'>\n"
     ]
    }
   ],
   "source": [
    "# integer\n",
    "x = 2 \n",
    "print(x)\n",
    "print(type(x))"
   ]
  },
  {
   "cell_type": "code",
   "execution_count": 37,
   "id": "316ca112-dc29-4ab7-8262-0ce160112404",
   "metadata": {},
   "outputs": [
    {
     "name": "stdout",
     "output_type": "stream",
     "text": [
      "4.5\n",
      "<class 'float'>\n"
     ]
    }
   ],
   "source": [
    "# floating type\n",
    "y = 4.5\n",
    "print(y)\n",
    "print(type(y))"
   ]
  },
  {
   "cell_type": "code",
   "execution_count": 41,
   "id": "d6381653-7bbb-415e-b007-02170847c3ae",
   "metadata": {},
   "outputs": [
    {
     "name": "stdout",
     "output_type": "stream",
     "text": [
      "<class 'complex'>\n"
     ]
    }
   ],
   "source": [
    "z = 2 + 5j\n",
    "\n",
    "print(type(z))"
   ]
  },
  {
   "cell_type": "code",
   "execution_count": 43,
   "id": "2239c9f1-a8ff-4f1d-8a4b-682b82f7e5af",
   "metadata": {},
   "outputs": [
    {
     "name": "stdout",
     "output_type": "stream",
     "text": [
      "noman siddiqui\n",
      "<class 'str'>\n"
     ]
    }
   ],
   "source": [
    "a = \"noman siddiqui\" # string\n",
    "print(a)\n",
    "print(type(a))"
   ]
  },
  {
   "cell_type": "code",
   "execution_count": 45,
   "id": "a2ec4150-c4c1-4882-a8b0-9337cd3007a4",
   "metadata": {},
   "outputs": [
    {
     "name": "stdout",
     "output_type": "stream",
     "text": [
      "[1, 2, 3, 4, 5, 6, 7, 8, 9]\n",
      "<class 'list'>\n"
     ]
    }
   ],
   "source": [
    "# list -> []\n",
    "b = [1,2,3,4,5,6,7,8,9]\n",
    "print(b)\n",
    "print(type(b))"
   ]
  },
  {
   "cell_type": "code",
   "execution_count": 47,
   "id": "b238ec46-b836-4f71-91b5-7a75d4656a3d",
   "metadata": {},
   "outputs": [
    {
     "name": "stdout",
     "output_type": "stream",
     "text": [
      "(1, 2, 3, 4, 5, 6, 7, 8, 9)\n",
      "<class 'tuple'>\n"
     ]
    }
   ],
   "source": [
    "#tuple -> ()\n",
    "\n",
    "c = (1,2,3,4,5,6,7,8,9)\n",
    "print(c)\n",
    "print(type(c))"
   ]
  },
  {
   "cell_type": "code",
   "execution_count": 49,
   "id": "6daae77e-f94d-47f8-b18f-4ac10d68d645",
   "metadata": {},
   "outputs": [
    {
     "name": "stdout",
     "output_type": "stream",
     "text": [
      "Variable               Type        Data/Info\n",
      "--------------------------------------------\n",
      "a                      str         noman siddiqui\n",
      "b                      list        n=9\n",
      "c                      tuple       n=9\n",
      "dataframe_columns      function    <function dataframe_colum<...>ns at 0x000001FCED9FD760>\n",
      "dataframe_hash         function    <function dataframe_hash at 0x000001FCEF097100>\n",
      "dtypes_str             function    <function dtypes_str at 0x000001FCF00FA700>\n",
      "get_dataframes         function    <function get_dataframes at 0x000001FCF0091080>\n",
      "getpass                module      <module 'getpass' from 'C<...>conda3\\\\Lib\\\\getpass.py'>\n",
      "hashlib                module      <module 'hashlib' from 'C<...>conda3\\\\Lib\\\\hashlib.py'>\n",
      "import_pandas_safely   function    <function import_pandas_s<...>ly at 0x000001FCED9FD4E0>\n",
      "is_data_frame          function    <function is_data_frame at 0x000001FCED9FD580>\n",
      "json                   module      <module 'json' from 'C:\\\\<...>\\Lib\\\\json\\\\__init__.py'>\n",
      "x                      int         2\n",
      "y                      float       4.5\n",
      "z                      complex     (2+5j)\n"
     ]
    }
   ],
   "source": [
    "%whos  # isko use kiye to jitne b variable bnaye h aur jo jo type k bnaye h sb pta chal jyga"
   ]
  },
  {
   "cell_type": "markdown",
   "id": "f119e792-4f73-46f3-86bb-78d3c1f40e7b",
   "metadata": {},
   "source": [
    "## operators"
   ]
  },
  {
   "cell_type": "code",
   "execution_count": 56,
   "id": "0560dced-1974-40e0-9288-c122dbd3a5ae",
   "metadata": {},
   "outputs": [
    {
     "name": "stdout",
     "output_type": "stream",
     "text": [
      "8\n",
      "(7+6j)\n"
     ]
    }
   ],
   "source": [
    "a = 3\n",
    "b= 5\n",
    "print(a + b) # addition\n",
    "x = 3 + 6j\n",
    "y = 4\n",
    "\n",
    "print(x + y)"
   ]
  },
  {
   "cell_type": "code",
   "execution_count": 60,
   "id": "35cc0081-d2f5-4dab-86f4-4d60dd19bf52",
   "metadata": {},
   "outputs": [
    {
     "name": "stdout",
     "output_type": "stream",
     "text": [
      "noman siddiqui\n"
     ]
    }
   ],
   "source": [
    "# string concatanation\n",
    "\n",
    "x = \"noman\"\n",
    "y = \"siddiqui\"\n",
    "\n",
    "print(x + \" \" + y)"
   ]
  },
  {
   "cell_type": "code",
   "execution_count": 62,
   "id": "bf5a6555-a0e7-488c-8fae-4b3b68235d54",
   "metadata": {},
   "outputs": [],
   "source": [
    "# aise hi subtraction multiplication aur division kr lenge"
   ]
  },
  {
   "cell_type": "code",
   "execution_count": 64,
   "id": "310b7feb-80f8-4b6b-8f36-6d95a8d71313",
   "metadata": {},
   "outputs": [
    {
     "name": "stdout",
     "output_type": "stream",
     "text": [
      "1\n"
     ]
    }
   ],
   "source": [
    "#modulous operator\n",
    "\n",
    "a = 10\n",
    "b = 3\n",
    "\n",
    "print(a % b)  # modulous ka mtlb divide krne k bad remainder kitna milta hai"
   ]
  },
  {
   "cell_type": "code",
   "execution_count": 66,
   "id": "6a303cdb-9222-44bf-af06-7e660bebca38",
   "metadata": {},
   "outputs": [
    {
     "name": "stdout",
     "output_type": "stream",
     "text": [
      "965303762880904558906524848114289711430036209898666937906836739870125186311118592232601008303041471581230609883330659764308069876035507309447395377403022729597655412518075593413812614938979327061684368974351058841744036091345307045182339979260453503883233955317615026562206168250732663650556211178976059718139671290869326189512120651304831394889809631833360846008601711900398431848434987530585753114056571492227575823284008701551150955134959956300144158651011094495717863838977760412373356379593269433506288079858806411187626342259805963844258329607\n"
     ]
    }
   ],
   "source": [
    "# exponent\n",
    "\n",
    "a = 9583835383\n",
    "print(a**55)  # power nikalne k liye double asterix krke kar skte"
   ]
  },
  {
   "cell_type": "code",
   "execution_count": 70,
   "id": "799bf401-592e-460e-b56f-fd9d2d669aee",
   "metadata": {},
   "outputs": [
    {
     "name": "stdout",
     "output_type": "stream",
     "text": [
      "False\n",
      "True\n"
     ]
    }
   ],
   "source": [
    "# boolean\n",
    "\n",
    "a = True\n",
    "b = False\n",
    "\n",
    "print (a and b)# and gate\n",
    "print(a or b)"
   ]
  },
  {
   "cell_type": "code",
   "execution_count": null,
   "id": "0b00355f-6b7c-412e-9d5f-96b9ef79f70d",
   "metadata": {},
   "outputs": [],
   "source": []
  }
 ],
 "metadata": {
  "kernelspec": {
   "display_name": "Python 3 (ipykernel)",
   "language": "python",
   "name": "python3"
  },
  "language_info": {
   "codemirror_mode": {
    "name": "ipython",
    "version": 3
   },
   "file_extension": ".py",
   "mimetype": "text/x-python",
   "name": "python",
   "nbconvert_exporter": "python",
   "pygments_lexer": "ipython3",
   "version": "3.12.4"
  }
 },
 "nbformat": 4,
 "nbformat_minor": 5
}
