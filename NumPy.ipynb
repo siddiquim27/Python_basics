{
 "cells": [
  {
   "cell_type": "markdown",
   "id": "ef4270aa-3975-406c-8767-a53eb383d693",
   "metadata": {},
   "source": [
    "## NumPy (Numerical Python)"
   ]
  },
  {
   "cell_type": "code",
   "execution_count": 4,
   "id": "b9edd78e-5496-4f99-b09b-3b6b8e1ebde0",
   "metadata": {},
   "outputs": [],
   "source": [
    "## numpy contains arrays and matrix data type"
   ]
  },
  {
   "cell_type": "code",
   "execution_count": 4,
   "id": "e2775e20-afbf-489e-b17b-826d17c0f23d",
   "metadata": {},
   "outputs": [],
   "source": [
    "import numpy as np"
   ]
  },
  {
   "cell_type": "code",
   "execution_count": 8,
   "id": "05ec9cad-79c0-4fdb-a008-ec4c36241066",
   "metadata": {},
   "outputs": [
    {
     "name": "stdout",
     "output_type": "stream",
     "text": [
      "[1 2 3 4 5]\n",
      "<class 'numpy.ndarray'>\n"
     ]
    }
   ],
   "source": [
    "arr = np.array([1,2,3,4,5])\n",
    "print(arr)\n",
    "print(type(arr))"
   ]
  },
  {
   "cell_type": "code",
   "execution_count": 10,
   "id": "0846c972-2666-490f-a9e5-9a11b1fb0ff1",
   "metadata": {},
   "outputs": [
    {
     "name": "stdout",
     "output_type": "stream",
     "text": [
      "[1 2 3 4 5 6]\n",
      "<class 'numpy.ndarray'>\n"
     ]
    }
   ],
   "source": [
    "## tuples\n",
    "arr1 = np.array((1,2,3,4,5,6))\n",
    "print(arr1)\n",
    "print(type(arr1))"
   ]
  },
  {
   "cell_type": "code",
   "execution_count": 12,
   "id": "21c80972-5dd1-4dab-bf8d-e919a81e1735",
   "metadata": {},
   "outputs": [],
   "source": [
    "## dimension of array"
   ]
  },
  {
   "cell_type": "code",
   "execution_count": 18,
   "id": "f2306345-2146-4464-a5ca-e094a819f62a",
   "metadata": {},
   "outputs": [
    {
     "name": "stdout",
     "output_type": "stream",
     "text": [
      "20\n",
      "the dimension of array is:  0\n"
     ]
    }
   ],
   "source": [
    "arr2 = np.array(20)\n",
    "print(arr2)\n",
    "print(\"the dimension of array is: \",arr2.ndim)"
   ]
  },
  {
   "cell_type": "code",
   "execution_count": 20,
   "id": "d4fe2028-8b85-4d3b-bd5b-abbed085b3d6",
   "metadata": {},
   "outputs": [],
   "source": [
    "## 1-D array\n"
   ]
  },
  {
   "cell_type": "code",
   "execution_count": 22,
   "id": "2489b0d1-e306-4461-b643-3645cbc39cda",
   "metadata": {},
   "outputs": [
    {
     "name": "stdout",
     "output_type": "stream",
     "text": [
      "[1 2 3 4 5]\n",
      "1\n"
     ]
    }
   ],
   "source": [
    "arr3 = np.array([1,2,3,4,5])\n",
    "print(arr3)\n",
    "print(arr3.ndim)"
   ]
  },
  {
   "cell_type": "code",
   "execution_count": 24,
   "id": "ac7d9f88-0ac0-4770-b477-fc66928b09af",
   "metadata": {},
   "outputs": [],
   "source": [
    "## 2-D array"
   ]
  },
  {
   "cell_type": "code",
   "execution_count": 32,
   "id": "baab22f5-c61d-4b67-b17f-a2aa662720bf",
   "metadata": {},
   "outputs": [
    {
     "name": "stdout",
     "output_type": "stream",
     "text": [
      "[[2 3 7]\n",
      " [4 5 6]]\n",
      "2\n"
     ]
    }
   ],
   "source": [
    "arr4 = np.array([[2,3,7], [4,5,6]])\n",
    "print(arr4)\n",
    "print(arr4.ndim)"
   ]
  },
  {
   "cell_type": "code",
   "execution_count": 34,
   "id": "4ece56e2-e94a-4be6-a718-6b8b3855855f",
   "metadata": {},
   "outputs": [],
   "source": [
    "## 3-D array"
   ]
  },
  {
   "cell_type": "code",
   "execution_count": 52,
   "id": "f98be87b-dcb0-4c56-b88a-9ad06398caa2",
   "metadata": {},
   "outputs": [
    {
     "name": "stdout",
     "output_type": "stream",
     "text": [
      "[[[1 2 3]\n",
      "  [2 3 4]\n",
      "  [4 5 6]]]\n",
      "3\n"
     ]
    }
   ],
   "source": [
    "arr5 = np.array([[[1,2,3],[2,3,4], [4,5,6]]])\n",
    "print(arr5)\n",
    "print(arr5.ndim)"
   ]
  },
  {
   "cell_type": "code",
   "execution_count": 54,
   "id": "8c5fb3ed-027a-4b30-b255-725f7664f8d5",
   "metadata": {},
   "outputs": [
    {
     "name": "stdout",
     "output_type": "stream",
     "text": [
      "[[[[[1 2 3 4]]]]]\n",
      "5\n"
     ]
    }
   ],
   "source": [
    "arr6 = np.array([1,2,3,4], ndmin = 5)\n",
    "print(arr6)\n",
    "print(arr6.ndim)"
   ]
  },
  {
   "cell_type": "code",
   "execution_count": null,
   "id": "db62fea1-3db5-4430-876e-184bc405f2eb",
   "metadata": {},
   "outputs": [],
   "source": []
  },
  {
   "cell_type": "code",
   "execution_count": 58,
   "id": "2f803259-98b5-4d4b-97e1-ef4d7ab9caed",
   "metadata": {},
   "outputs": [
    {
     "name": "stdout",
     "output_type": "stream",
     "text": [
      "4\n",
      "20\n"
     ]
    }
   ],
   "source": [
    "## indexing in 1-D array\n",
    "arr7 = np.array([2,3,4,5,6,7,8,6,7,8,93])\n",
    "print(arr7[2])\n",
    "print(arr7[3] + arr7[6] + arr7[8])"
   ]
  },
  {
   "cell_type": "code",
   "execution_count": 60,
   "id": "e735c394-5e20-4aa0-981a-51cebfd36d89",
   "metadata": {},
   "outputs": [],
   "source": [
    "## indexing in 2-D ARRAY"
   ]
  },
  {
   "cell_type": "code",
   "execution_count": 80,
   "id": "5701fd74-4f3c-460b-a2cb-c329ff2a990c",
   "metadata": {},
   "outputs": [
    {
     "name": "stdout",
     "output_type": "stream",
     "text": [
      "[[2 3 7 5 6]\n",
      " [4 9 6 6 7]]\n",
      "7\n"
     ]
    }
   ],
   "source": [
    "arr8 = np.array([[2,3,7 ,5,6], [4,9,6,6,7]])\n",
    "print(arr8)\n",
    "print(arr8[1,4]) ## syntax : [row , col]"
   ]
  },
  {
   "cell_type": "code",
   "execution_count": 82,
   "id": "5f0d7b88-eee4-4345-8d0f-73be1b713f1c",
   "metadata": {},
   "outputs": [
    {
     "name": "stdout",
     "output_type": "stream",
     "text": [
      "[[2 3 7 5 6]\n",
      " [4 9 6 6 7]]\n",
      "6\n"
     ]
    }
   ],
   "source": [
    "arr8 = np.array([[2,3,7 ,5,6], [4,9,6,6,7]])\n",
    "print(arr8)\n",
    "print(arr8[0,4]) ## syntax : [row , col]"
   ]
  },
  {
   "cell_type": "code",
   "execution_count": 7,
   "id": "d14c9479-c20a-49b9-a242-e2000edd95df",
   "metadata": {},
   "outputs": [
    {
     "name": "stdout",
     "output_type": "stream",
     "text": [
      "[[2 3 7 5 6]\n",
      " [4 9 6 6 7]]\n",
      "9\n"
     ]
    }
   ],
   "source": [
    "arr8 = np.array([[2,3,7 ,5,6], [4,9,6,6,7]])\n",
    "print(arr8)\n",
    "print(arr8[0,0] + arr8[1,4])"
   ]
  },
  {
   "cell_type": "markdown",
   "id": "fd6b55b5-acb8-4351-a789-ba7bb64f40bb",
   "metadata": {},
   "source": [
    "## 3D- Arrays "
   ]
  },
  {
   "cell_type": "code",
   "execution_count": 14,
   "id": "42879102-7125-42a5-b6a0-8d9deabc575f",
   "metadata": {},
   "outputs": [
    {
     "name": "stdout",
     "output_type": "stream",
     "text": [
      "[[[1 2 3 4 5]\n",
      "  [4 5 6 7 8]\n",
      "  [9 6 4 3 7]]]\n",
      "6\n"
     ]
    }
   ],
   "source": [
    "arr9 = np.array([[[1,2,3,4,5], [4,5,6,7,8], [9,6,4,3,7]]])\n",
    "print(arr9)\n",
    "print(arr9[0,1,2])"
   ]
  },
  {
   "cell_type": "code",
   "execution_count": null,
   "id": "83541033-a7e7-45de-8dc2-5b159a6ea772",
   "metadata": {},
   "outputs": [],
   "source": []
  },
  {
   "cell_type": "code",
   "execution_count": 17,
   "id": "26f8c762-5088-4759-a76d-317aaa90895c",
   "metadata": {},
   "outputs": [],
   "source": [
    "## slicing of numpy arrays"
   ]
  },
  {
   "cell_type": "code",
   "execution_count": 21,
   "id": "b2667fba-6caa-452b-9324-b8a7c73a88fd",
   "metadata": {},
   "outputs": [
    {
     "name": "stdout",
     "output_type": "stream",
     "text": [
      "[4 5 6]\n"
     ]
    }
   ],
   "source": [
    "arr1 = np.array([23,4,5,6,7])\n",
    "print(arr1[1:4])"
   ]
  },
  {
   "cell_type": "code",
   "execution_count": 25,
   "id": "c67c76d7-3fd4-454e-b9c7-976f85c40424",
   "metadata": {},
   "outputs": [
    {
     "name": "stdout",
     "output_type": "stream",
     "text": [
      "[[2 3 7 5 6]\n",
      " [4 9 6 6 7]]\n",
      "[9 6 6]\n"
     ]
    }
   ],
   "source": [
    "## slicing for 2d\n",
    "arr2 = np.array([[2,3,7 ,5,6], [4,9,6,6,7]])\n",
    "print(arr2)\n",
    "\n",
    "print(arr2[1,1:4])  ## [row number , normal slicing index]"
   ]
  },
  {
   "cell_type": "code",
   "execution_count": 27,
   "id": "2a794951-6f70-4bd9-9ea3-01b564b0d64d",
   "metadata": {},
   "outputs": [
    {
     "name": "stdout",
     "output_type": "stream",
     "text": [
      "[[[1 2 3 4 5]\n",
      "  [4 5 6 7 8]\n",
      "  [9 6 4 3 7]]]\n",
      "[5 6 7]\n"
     ]
    }
   ],
   "source": [
    "## slicing in 3d\n",
    "arr3 = np.array([[[1,2,3,4,5], [4,5,6,7,8], [9,6,4,3,7]]])\n",
    "print(arr3)\n",
    "print(arr3[0,1,1:4])"
   ]
  },
  {
   "cell_type": "code",
   "execution_count": 31,
   "id": "06270056-1a99-4d7c-ac97-4645666aa557",
   "metadata": {},
   "outputs": [
    {
     "name": "stdout",
     "output_type": "stream",
     "text": [
      "[[[1 2 3 4 5]\n",
      "  [4 5 6 7 8]\n",
      "  [9 6 4 3 7]]]\n"
     ]
    },
    {
     "ename": "IndexError",
     "evalue": "index 1 is out of bounds for axis 0 with size 1",
     "output_type": "error",
     "traceback": [
      "\u001b[1;31m---------------------------------------------------------------------------\u001b[0m",
      "\u001b[1;31mIndexError\u001b[0m                                Traceback (most recent call last)",
      "Cell \u001b[1;32mIn[31], line 3\u001b[0m\n\u001b[0;32m      1\u001b[0m arr3 \u001b[38;5;241m=\u001b[39m np\u001b[38;5;241m.\u001b[39marray([[[\u001b[38;5;241m1\u001b[39m,\u001b[38;5;241m2\u001b[39m,\u001b[38;5;241m3\u001b[39m,\u001b[38;5;241m4\u001b[39m,\u001b[38;5;241m5\u001b[39m], [\u001b[38;5;241m4\u001b[39m,\u001b[38;5;241m5\u001b[39m,\u001b[38;5;241m6\u001b[39m,\u001b[38;5;241m7\u001b[39m,\u001b[38;5;241m8\u001b[39m], [\u001b[38;5;241m9\u001b[39m,\u001b[38;5;241m6\u001b[39m,\u001b[38;5;241m4\u001b[39m,\u001b[38;5;241m3\u001b[39m,\u001b[38;5;241m7\u001b[39m]]])\n\u001b[0;32m      2\u001b[0m \u001b[38;5;28mprint\u001b[39m(arr3)\n\u001b[1;32m----> 3\u001b[0m \u001b[38;5;28mprint\u001b[39m(arr3[\u001b[38;5;241m1\u001b[39m,\u001b[38;5;241m1\u001b[39m,\u001b[38;5;241m1\u001b[39m:\u001b[38;5;241m4\u001b[39m])\n",
      "\u001b[1;31mIndexError\u001b[0m: index 1 is out of bounds for axis 0 with size 1"
     ]
    }
   ],
   "source": [
    "arr3 = np.array([[[1,2,3,4,5], [4,5,6,7,8], [9,6,4,3,7]]])\n",
    "print(arr3)\n",
    "print(arr3[1,1,1:4])"
   ]
  },
  {
   "cell_type": "markdown",
   "id": "0593c57f-2132-45b3-a375-d7db4ddf27c8",
   "metadata": {},
   "source": [
    " ## checking data types in array"
   ]
  },
  {
   "cell_type": "code",
   "execution_count": 36,
   "id": "a0ed35de-593f-4073-ac1d-76acb2c89642",
   "metadata": {},
   "outputs": [
    {
     "name": "stdout",
     "output_type": "stream",
     "text": [
      "int32\n"
     ]
    }
   ],
   "source": [
    "arr = np.array([23,4,5,6,7])\n",
    "print(arr.dtype)"
   ]
  },
  {
   "cell_type": "code",
   "execution_count": 38,
   "id": "57da1607-a415-4229-9316-abb84f64b74c",
   "metadata": {},
   "outputs": [
    {
     "name": "stdout",
     "output_type": "stream",
     "text": [
      "<U6\n"
     ]
    }
   ],
   "source": [
    "arr = np.array(['animls' , 'bat'])\n",
    "print(arr.dtype)"
   ]
  },
  {
   "cell_type": "code",
   "execution_count": 40,
   "id": "903fcd26-95f0-439b-a067-bb9837ce20c5",
   "metadata": {},
   "outputs": [
    {
     "name": "stdout",
     "output_type": "stream",
     "text": [
      "[b'5' b'6' b'7' b'8' b'3']\n",
      "|S1\n"
     ]
    }
   ],
   "source": [
    "## creating arrays with defined arrays\n",
    "arr = np.array([5,6,7,8,3] , dtype = 'S')\n",
    "print(arr)\n",
    "print(arr.dtype)"
   ]
  },
  {
   "cell_type": "code",
   "execution_count": 44,
   "id": "9fa9ba73-0965-431e-9766-180cc8917a95",
   "metadata": {},
   "outputs": [
    {
     "name": "stdout",
     "output_type": "stream",
     "text": [
      "[1 2 3 4]\n",
      "int32\n"
     ]
    }
   ],
   "source": [
    "## create array with data type 4byte integer\n",
    "arr = np.array([1,2,3,4] , dtype = 'i4')\n",
    "print(arr)\n",
    "print(arr.dtype)"
   ]
  },
  {
   "cell_type": "markdown",
   "id": "ed19f37c-f3b9-435b-a097-dd03a1cb3d4f",
   "metadata": {},
   "source": [
    "## numpy shapes"
   ]
  },
  {
   "cell_type": "code",
   "execution_count": 47,
   "id": "b742224f-a99f-422a-8756-41aed574072f",
   "metadata": {},
   "outputs": [
    {
     "name": "stdout",
     "output_type": "stream",
     "text": [
      "(2, 4)\n"
     ]
    }
   ],
   "source": [
    " arr = np.array([[1,2,3,4], [5,6,7,8]])\n",
    "print(arr.shape)"
   ]
  },
  {
   "cell_type": "code",
   "execution_count": 51,
   "id": "2b325b79-b13e-4678-8f98-ad9cb9ae4b46",
   "metadata": {},
   "outputs": [
    {
     "name": "stdout",
     "output_type": "stream",
     "text": [
      "(1, 3, 4)\n"
     ]
    }
   ],
   "source": [
    " arr = np.array([[[1,2,3,4], [5,6,7,8], [3,4,5,6]]])\n",
    "print(arr.shape)"
   ]
  },
  {
   "cell_type": "code",
   "execution_count": 55,
   "id": "1843ee61-999e-4856-b0a6-ac2fc7db7a7c",
   "metadata": {},
   "outputs": [
    {
     "name": "stdout",
     "output_type": "stream",
     "text": [
      "[1 2 3 4 5 6 7 8]\n"
     ]
    }
   ],
   "source": [
    "## joining numpy arrays 1D\n",
    "arr1 = np.array([1,2,3,4])\n",
    "arr2 = np.array([5,6,7,8])\n",
    "arr3 = np.concatenate((arr1,arr2))\n",
    "print(arr3)"
   ]
  },
  {
   "cell_type": "code",
   "execution_count": 59,
   "id": "7a4275ef-2ed1-416c-831c-3fc73907b55c",
   "metadata": {},
   "outputs": [
    {
     "name": "stdout",
     "output_type": "stream",
     "text": [
      "[[2 3 7 5 6 1 3 7 5 9]\n",
      " [4 9 6 6 7 4 9 6 5 7]]\n"
     ]
    }
   ],
   "source": [
    "## joining numpy arrays 2D\n",
    "arr1 = np.array([[2,3,7 ,5,6], [4,9,6,6,7]])\n",
    "arr2 = np.array([[1,3,7 ,5,9], [4,9,6,5,7]])\n",
    "\n",
    "arr3 = np.concatenate((arr1 , arr2) , axis = 1)\n",
    "print(arr3)"
   ]
  },
  {
   "cell_type": "code",
   "execution_count": 61,
   "id": "c33ed5b6-a933-48b0-90da-08339603559b",
   "metadata": {},
   "outputs": [
    {
     "name": "stdout",
     "output_type": "stream",
     "text": [
      "[[2 3 7 5 6]\n",
      " [4 9 6 6 7]\n",
      " [1 3 7 5 9]\n",
      " [4 9 6 5 7]]\n"
     ]
    }
   ],
   "source": [
    "## joining numpy arrays 2D\n",
    "arr1 = np.array([[2,3,7 ,5,6], [4,9,6,6,7]])\n",
    "arr2 = np.array([[1,3,7 ,5,9], [4,9,6,5,7]])\n",
    "\n",
    "arr3 = np.concatenate((arr1 , arr2) , axis = 0)\n",
    "print(arr3)"
   ]
  },
  {
   "cell_type": "markdown",
   "id": "a3d899e3-0f82-482f-89af-2c5c70afb084",
   "metadata": {},
   "source": [
    "## spitting numpy arrays - > ek array ko alg alg tod dena\n",
    "\n"
   ]
  },
  {
   "cell_type": "code",
   "execution_count": 64,
   "id": "92e52d2b-229a-46c6-97ac-2d29fc5f5e5c",
   "metadata": {},
   "outputs": [
    {
     "name": "stdout",
     "output_type": "stream",
     "text": [
      "[array([1, 2]), array([3, 4]), array([5, 6])]\n"
     ]
    }
   ],
   "source": [
    "arr = np.array([1,2,3,4,5,6])\n",
    "arr1 = np.array_split(arr, 3)\n",
    "print(arr1)"
   ]
  },
  {
   "cell_type": "code",
   "execution_count": 66,
   "id": "9b824d4a-86d0-4a1f-b268-cd169a6e939b",
   "metadata": {},
   "outputs": [
    {
     "name": "stdout",
     "output_type": "stream",
     "text": [
      "[array([1, 2]), array([3, 4]), array([5]), array([6])]\n"
     ]
    }
   ],
   "source": [
    "arr = np.array([1,2,3,4,5,6])\n",
    "arr1 = np.array_split(arr, 4)\n",
    "print(arr1)"
   ]
  },
  {
   "cell_type": "markdown",
   "id": "136330ae-7576-4934-a51d-b38672e00997",
   "metadata": {},
   "source": [
    "## ravel and flatten -> coverts multi dimensional to 1d array"
   ]
  },
  {
   "cell_type": "code",
   "execution_count": 74,
   "id": "8efd0ce6-c99c-473b-94c4-966d95f031c8",
   "metadata": {},
   "outputs": [
    {
     "name": "stdout",
     "output_type": "stream",
     "text": [
      "[[[1 2 3]\n",
      "  [4 5 6]\n",
      "  [7 8 9]]]\n",
      "dimension is:  3\n",
      "[1 2 3 4 5 6 7 8 9]\n",
      "new dimension is: 1\n"
     ]
    }
   ],
   "source": [
    "m = np.array([[[1,2,3], [4,5,6], [7,8,9]]])\n",
    "print(m)\n",
    "print(\"dimension is: \", m.ndim)\n",
    "n = m.ravel()\n",
    "print(n)\n",
    "print(\"new dimension is:\", n.ndim)"
   ]
  },
  {
   "cell_type": "code",
   "execution_count": 76,
   "id": "196dc752-9f51-407b-9b86-dd19b6698a64",
   "metadata": {},
   "outputs": [
    {
     "name": "stdout",
     "output_type": "stream",
     "text": [
      "[[[1 2 3]\n",
      "  [4 5 6]\n",
      "  [7 8 9]]]\n",
      "dimension is:  3\n",
      "[1 2 3 4 5 6 7 8 9]\n",
      "new dimension is: 1\n"
     ]
    }
   ],
   "source": [
    "m = np.array([[[1,2,3], [4,5,6], [7,8,9]]])\n",
    "print(m)\n",
    "print(\"dimension is: \", m.ndim)\n",
    "n = m.flatten()\n",
    "print(n)\n",
    "print(\"new dimension is:\", n.ndim)"
   ]
  },
  {
   "cell_type": "code",
   "execution_count": 88,
   "id": "4830ab1c-1a1a-439d-9a26-bca6e188884b",
   "metadata": {},
   "outputs": [
    {
     "name": "stdout",
     "output_type": "stream",
     "text": [
      "[[[[ 1  2  3]\n",
      "   [ 4  5  6]\n",
      "   [ 7  8  9]\n",
      "   [23 45 67]]]]\n",
      "dimension is:  4\n",
      "[ 1  2  3  4  5  6  7  8  9 23 45 67]\n",
      "new dimension is: 1\n"
     ]
    }
   ],
   "source": [
    "m = np.array([[[[1,2,3], [4,5,6], [7,8,9] , [23,45,67]]]])\n",
    "print(m)\n",
    "print(\"dimension is: \", m.ndim)\n",
    "n = m.ravel()\n",
    "print(n)\n",
    "print(\"new dimension is:\", n.ndim)"
   ]
  },
  {
   "cell_type": "code",
   "execution_count": 6,
   "id": "3a02eb5c-a1e3-4223-b177-3b970639e4b0",
   "metadata": {},
   "outputs": [
    {
     "name": "stdout",
     "output_type": "stream",
     "text": [
      "[12  3  4 54  5 67 89  5  6  7  4  2  4  4  5  7 54]\n",
      "(array([ 2,  3,  4,  5,  6,  7, 12, 54, 67, 89]), array([11,  1,  2,  4,  8,  9,  0,  3,  5,  6], dtype=int64))\n"
     ]
    }
   ],
   "source": [
    "## unique function\n",
    "k = np.array([12,3,4,54,5,67,89,5,6,7,4,2,4,4,5,7,54])\n",
    "print(k)\n",
    "x = np.unique(k, return_index = True)\n",
    "print(x)"
   ]
  },
  {
   "cell_type": "code",
   "execution_count": 10,
   "id": "a3cbb0f9-44e9-427a-8607-6ed82654d8a2",
   "metadata": {},
   "outputs": [
    {
     "name": "stdout",
     "output_type": "stream",
     "text": [
      "[12  3  4 54  5 67 89  5  6  7  4  2  4  4  5  7 54]\n",
      "(array([ 2,  3,  4,  5,  6,  7, 12, 54, 67, 89]), array([11,  1,  2,  4,  8,  9,  0,  3,  5,  6], dtype=int64), array([1, 1, 4, 3, 1, 2, 1, 2, 1, 1], dtype=int64))\n"
     ]
    }
   ],
   "source": [
    "k = np.array([12,3,4,54,5,67,89,5,6,7,4,2,4,4,5,7,54])\n",
    "print(k)\n",
    "x = np.unique(k, return_index = True , return_counts = True)\n",
    "print(x)"
   ]
  },
  {
   "cell_type": "code",
   "execution_count": 12,
   "id": "7d794c39-d803-4268-9dd7-1f6a2e948bb8",
   "metadata": {},
   "outputs": [],
   "source": [
    "## delete"
   ]
  },
  {
   "cell_type": "code",
   "execution_count": 20,
   "id": "831bd741-05df-44db-9a5a-71b9f07277ef",
   "metadata": {},
   "outputs": [
    {
     "name": "stdout",
     "output_type": "stream",
     "text": [
      "[12  3 54  5 67 89  5  6  7  4  2  4  4  5  7 54]\n"
     ]
    }
   ],
   "source": [
    "k1 = np.array([12,3,4,54,5,67,89,5,6,7,4,2,4,4,5,7,54])\n",
    "k2 = np.delete(k1, [2])\n",
    "print(k2)"
   ]
  },
  {
   "cell_type": "code",
   "execution_count": 30,
   "id": "e35492f1-fbf3-4e72-b4d8-9dceffd504bd",
   "metadata": {},
   "outputs": [
    {
     "name": "stdout",
     "output_type": "stream",
     "text": [
      "[[[1 2 3]\n",
      "  [4 5 6]\n",
      "  [7 8 9]]]\n",
      "[[[1 2 3]\n",
      "  [7 8 9]]]\n"
     ]
    }
   ],
   "source": [
    "m = np.array([[[1,2,3], [4,5,6], [7,8,9]]])\n",
    "print(m)\n",
    "n = np.delete(m ,1, axis = 1)\n",
    "print(n)"
   ]
  },
  {
   "cell_type": "code",
   "execution_count": null,
   "id": "50e49fd8-e97d-45eb-8268-9fe9623f0a8e",
   "metadata": {},
   "outputs": [],
   "source": []
  }
 ],
 "metadata": {
  "kernelspec": {
   "display_name": "Python 3 (ipykernel)",
   "language": "python",
   "name": "python3"
  },
  "language_info": {
   "codemirror_mode": {
    "name": "ipython",
    "version": 3
   },
   "file_extension": ".py",
   "mimetype": "text/x-python",
   "name": "python",
   "nbconvert_exporter": "python",
   "pygments_lexer": "ipython3",
   "version": "3.12.4"
  }
 },
 "nbformat": 4,
 "nbformat_minor": 5
}
