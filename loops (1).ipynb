{
 "cells": [
  {
   "cell_type": "markdown",
   "id": "c5a1b67c-b1a1-4ae5-9ac2-e9ca07e02b27",
   "metadata": {},
   "source": [
    "## Loops concept"
   ]
  },
  {
   "cell_type": "markdown",
   "id": "0e12d430-acac-4a9d-b607-d4c422da9093",
   "metadata": {},
   "source": [
    "# while loop"
   ]
  },
  {
   "cell_type": "code",
   "execution_count": 4,
   "id": "2d0c9403-068f-40f8-8a62-0d25f17317f7",
   "metadata": {},
   "outputs": [
    {
     "name": "stdout",
     "output_type": "stream",
     "text": [
      "1\n",
      "2\n",
      "3\n",
      "4\n",
      "5\n"
     ]
    }
   ],
   "source": [
    "# 1 to 5 numbers to display\n",
    "i = 1\n",
    "n = 5\n",
    "\n",
    "while i <=n:\n",
    "    print(i)\n",
    "    i = i+ 1"
   ]
  },
  {
   "cell_type": "code",
   "execution_count": 6,
   "id": "f0b60aab-27e7-44d8-949b-0728f01be383",
   "metadata": {},
   "outputs": [
    {
     "name": "stdin",
     "output_type": "stream",
     "text": [
      "enter the number for table: 9\n"
     ]
    },
    {
     "name": "stdout",
     "output_type": "stream",
     "text": [
      "9\n",
      "18\n",
      "27\n",
      "36\n",
      "45\n",
      "54\n",
      "63\n",
      "72\n",
      "81\n",
      "90\n",
      "so this is  your multiplication table of 9\n"
     ]
    }
   ],
   "source": [
    "# table\n",
    "i = 1\n",
    "x = int(input(\"enter the number for table:\"))\n",
    "while i <= 10:\n",
    "    print(x * i)\n",
    "    i += 1\n",
    "print(\"so this is  your multiplication table of\" , x)"
   ]
  },
  {
   "cell_type": "code",
   "execution_count": 12,
   "id": "2070cd28-7391-46af-a69a-9d974a7e1b0f",
   "metadata": {},
   "outputs": [
    {
     "name": "stdout",
     "output_type": "stream",
     "text": [
      "1 hii\n",
      "2 hii\n",
      "3 hii\n",
      "4 hii\n",
      "5 hii\n",
      "6 hii\n",
      "7 hii\n",
      "8 hii\n",
      "9 hii\n",
      "10 hii\n",
      "11 hii\n",
      "12 hii\n",
      "13 hii\n",
      "14 hii\n",
      "15 hii\n",
      "16 hii\n",
      "17 hii\n",
      "18 hii\n",
      "19 hii\n",
      "20 hii\n",
      "21 hii\n",
      "22 hii\n",
      "23 hii\n",
      "24 hii\n",
      "25 hii\n"
     ]
    }
   ],
   "source": [
    "count = 0\n",
    "i= 1\n",
    "while count < 25:\n",
    "    print( i , \"hii\")\n",
    "    i = i+ 1\n",
    "    count += 1"
   ]
  },
  {
   "cell_type": "code",
   "execution_count": 14,
   "id": "935bf1ee-f890-40b7-b606-fa5b71aea397",
   "metadata": {},
   "outputs": [
    {
     "name": "stdout",
     "output_type": "stream",
     "text": [
      "1 hii\n",
      "2 hii\n",
      "3 hii\n",
      "4 hii\n",
      "5 hii\n",
      "6 hii\n",
      "7 hii\n",
      "8 hii\n",
      "9 hii\n",
      "10 hii\n",
      "11 hii\n",
      "12 hii\n",
      "13 hii\n",
      "14 hii\n",
      "15 hii\n",
      "16 hii\n",
      "17 hii\n",
      "18 hii\n",
      "19 hii\n",
      "20 hii\n",
      "21 hii\n",
      "22 hii\n",
      "23 hii\n",
      "24 hii\n",
      "25 hii\n",
      "this is else block\n"
     ]
    }
   ],
   "source": [
    "# using else statement while loop\n",
    "count = 0\n",
    "i= 1\n",
    "while count < 25:\n",
    "    print( i , \"hii\")\n",
    "    i = i+ 1\n",
    "    count += 1\n",
    "else:\n",
    "    print(\"this is else block\")\n"
   ]
  },
  {
   "cell_type": "markdown",
   "id": "3d5ba3a2-ed74-4c86-ad6e-aba96a44a49e",
   "metadata": {},
   "source": [
    "## for loop"
   ]
  },
  {
   "cell_type": "code",
   "execution_count": 25,
   "id": "9f46caeb-c9c3-42ec-a69b-bfaa41b5ef6c",
   "metadata": {},
   "outputs": [
    {
     "name": "stdout",
     "output_type": "stream",
     "text": [
      "apple\n",
      "orange\n",
      "bnana\n",
      "grapes\n"
     ]
    }
   ],
   "source": [
    "fruits = [\"apple\" , \"orange\" , \"bnana\", \"grapes\"]\n",
    "for x in fruits:\n",
    "    print(x)"
   ]
  },
  {
   "cell_type": "code",
   "execution_count": 32,
   "id": "b80e513b-e88d-4289-ac1e-76c32c2c936d",
   "metadata": {},
   "outputs": [
    {
     "name": "stdout",
     "output_type": "stream",
     "text": [
      "g\n",
      "r\n",
      "a\n",
      "p\n",
      "e\n",
      "s\n"
     ]
    }
   ],
   "source": [
    "for x in \"grapes\":\n",
    "    print(x)\n",
    "    #print(x[i])"
   ]
  },
  {
   "cell_type": "code",
   "execution_count": 38,
   "id": "991b1b9a-6a9a-4e18-b3da-41f84ad79a14",
   "metadata": {},
   "outputs": [
    {
     "name": "stdout",
     "output_type": "stream",
     "text": [
      "0\n",
      "1\n",
      "2\n",
      "3\n",
      "4\n",
      "5\n",
      "6\n",
      "7\n",
      "8\n",
      "9\n"
     ]
    }
   ],
   "source": [
    "for x in range(10):\n",
    "    print(x)"
   ]
  },
  {
   "cell_type": "code",
   "execution_count": 42,
   "id": "63fc94a9-787d-4619-bdf0-b7d768555aa7",
   "metadata": {},
   "outputs": [
    {
     "name": "stdout",
     "output_type": "stream",
     "text": [
      "3\n",
      "4\n",
      "5\n",
      "6\n",
      "7\n",
      "8\n",
      "9\n",
      "10\n",
      "11\n",
      "12\n",
      "13\n",
      "14\n",
      "15\n",
      "16\n",
      "17\n",
      "18\n",
      "19\n",
      "20\n",
      "21\n",
      "22\n",
      "23\n",
      "24\n"
     ]
    }
   ],
   "source": [
    "for x in range(3 , 25): # wo 3 liye to 3 se start ho jyga\n",
    "    print(x)"
   ]
  },
  {
   "cell_type": "code",
   "execution_count": null,
   "id": "19b514bf-0223-403a-b953-9d119220385b",
   "metadata": {},
   "outputs": [],
   "source": []
  }
 ],
 "metadata": {
  "kernelspec": {
   "display_name": "Python 3 (ipykernel)",
   "language": "python",
   "name": "python3"
  },
  "language_info": {
   "codemirror_mode": {
    "name": "ipython",
    "version": 3
   },
   "file_extension": ".py",
   "mimetype": "text/x-python",
   "name": "python",
   "nbconvert_exporter": "python",
   "pygments_lexer": "ipython3",
   "version": "3.12.4"
  }
 },
 "nbformat": 4,
 "nbformat_minor": 5
}
